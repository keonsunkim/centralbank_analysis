{
 "cells": [
  {
   "cell_type": "code",
   "execution_count": 17,
   "id": "b5e69b81",
   "metadata": {},
   "outputs": [],
   "source": [
    "import pandas as pd\n",
    "import pickle"
   ]
  },
  {
   "cell_type": "code",
   "execution_count": 18,
   "id": "8865a6bd",
   "metadata": {},
   "outputs": [],
   "source": [
    "from FedTools import MonetaryPolicyCommittee\n",
    "from FedTools import BeigeBooks\n",
    "from FedTools import FederalReserveMins"
   ]
  },
  {
   "cell_type": "code",
   "execution_count": 19,
   "id": "cdb7679c",
   "metadata": {},
   "outputs": [
    {
     "name": "stdout",
     "output_type": "stream",
     "text": [
      "Constructing links between 1994 and 2022\n",
      "Extracting the past 199 FOMC Statements.\n",
      "Retrieving articles.\n",
      "......................................................................................................................................................................................................."
     ]
    }
   ],
   "source": [
    "dataset = MonetaryPolicyCommittee().find_statements()"
   ]
  },
  {
   "cell_type": "code",
   "execution_count": 60,
   "id": "debde65d",
   "metadata": {},
   "outputs": [],
   "source": [
    "dataset1 = dataset"
   ]
  },
  {
   "cell_type": "code",
   "execution_count": 20,
   "id": "7673b0f2",
   "metadata": {},
   "outputs": [
    {
     "data": {
      "text/plain": [
       "Index(['FOMC_Statements'], dtype='object')"
      ]
     },
     "execution_count": 20,
     "metadata": {},
     "output_type": "execute_result"
    }
   ],
   "source": [
    "dataset1.columns"
   ]
  },
  {
   "cell_type": "code",
   "execution_count": 21,
   "id": "f82bfdd1",
   "metadata": {},
   "outputs": [],
   "source": [
    "import re\n",
    "title_strip = re.compile(r\"(.*?)EDT[\\s]+Share\")\n",
    "end_voting_trip = re.compile(r\"Voting for the monetary policy action were.*\")"
   ]
  },
  {
   "cell_type": "code",
   "execution_count": 71,
   "id": "2e5213cf",
   "metadata": {},
   "outputs": [],
   "source": [
    "dataset1[\"FOMC_Statements\"] = dataset1[\"FOMC_Statements\"].apply(lambda x : re.sub(r\"(.*?)EDT[\\s]+Share\", \"\", str(x)))\n",
    "dataset1[\"FOMC_Statements\"] = dataset1[\"FOMC_Statements\"].apply(lambda x : re.sub(r\"Voting for the monetary policy action were.*\", \"\", str(x)))\n",
    "dataset1[\"FOMC_Statements\"] = dataset1[\"FOMC_Statements\"].apply(lambda x : re.sub(r\"Home | News.*\", \"\", str(x)))"
   ]
  },
  {
   "cell_type": "code",
   "execution_count": 22,
   "id": "d124aeb7",
   "metadata": {},
   "outputs": [],
   "source": [
    "dataset1.to_csv(\"FOMC_Statements_cleaned.csv\")\n",
    "\n",
    "with open('FOMC_Statements_cleaned.pickle', 'wb') as handle:\n",
    "    pickle.dump(dataset1, handle, protocol=pickle.HIGHEST_PROTOCOL)\n"
   ]
  },
  {
   "cell_type": "code",
   "execution_count": 78,
   "id": "1549b08c",
   "metadata": {},
   "outputs": [],
   "source": [
    "with open('FOMC_Statements_cleaned.pickle', 'rb') as handle:\n",
    "    b = pickle.load(handle)"
   ]
  },
  {
   "cell_type": "code",
   "execution_count": 23,
   "id": "38b79927",
   "metadata": {},
   "outputs": [
    {
     "data": {
      "text/html": [
       "<div>\n",
       "<style scoped>\n",
       "    .dataframe tbody tr th:only-of-type {\n",
       "        vertical-align: middle;\n",
       "    }\n",
       "\n",
       "    .dataframe tbody tr th {\n",
       "        vertical-align: top;\n",
       "    }\n",
       "\n",
       "    .dataframe thead th {\n",
       "        text-align: right;\n",
       "    }\n",
       "</style>\n",
       "<table border=\"1\" class=\"dataframe\">\n",
       "  <thead>\n",
       "    <tr style=\"text-align: right;\">\n",
       "      <th></th>\n",
       "      <th>FOMC_Statements</th>\n",
       "    </tr>\n",
       "  </thead>\n",
       "  <tbody>\n",
       "    <tr>\n",
       "      <th>1994-02-04</th>\n",
       "      <td>Chairman Alan Greenspan announced today that t...</td>\n",
       "    </tr>\n",
       "    <tr>\n",
       "      <th>1994-03-22</th>\n",
       "      <td>Chairman Alan Greenspan announced today that t...</td>\n",
       "    </tr>\n",
       "    <tr>\n",
       "      <th>1994-04-18</th>\n",
       "      <td>Chairman Alan Greenspan announced today that t...</td>\n",
       "    </tr>\n",
       "    <tr>\n",
       "      <th>1994-05-17</th>\n",
       "      <td>The Federal Reserve today announced two action...</td>\n",
       "    </tr>\n",
       "    <tr>\n",
       "      <th>1994-08-16</th>\n",
       "      <td>The Federal Reserve announced today the follow...</td>\n",
       "    </tr>\n",
       "    <tr>\n",
       "      <th>...</th>\n",
       "      <td>...</td>\n",
       "    </tr>\n",
       "    <tr>\n",
       "      <th>2022-01-26</th>\n",
       "      <td>The Federal Reserve, the central bank of the U...</td>\n",
       "    </tr>\n",
       "    <tr>\n",
       "      <th>2022-03-16</th>\n",
       "      <td>Indicators of economic activity and employme...</td>\n",
       "    </tr>\n",
       "    <tr>\n",
       "      <th>2022-05-04</th>\n",
       "      <td>Although overall economic activity edged dow...</td>\n",
       "    </tr>\n",
       "    <tr>\n",
       "      <th>2022-06-15</th>\n",
       "      <td>Overall economic activity appears to have pi...</td>\n",
       "    </tr>\n",
       "    <tr>\n",
       "      <th>2022-07-27</th>\n",
       "      <td>Recent indicators of spending and production...</td>\n",
       "    </tr>\n",
       "  </tbody>\n",
       "</table>\n",
       "<p>199 rows × 1 columns</p>\n",
       "</div>"
      ],
      "text/plain": [
       "                                              FOMC_Statements\n",
       "1994-02-04  Chairman Alan Greenspan announced today that t...\n",
       "1994-03-22  Chairman Alan Greenspan announced today that t...\n",
       "1994-04-18  Chairman Alan Greenspan announced today that t...\n",
       "1994-05-17  The Federal Reserve today announced two action...\n",
       "1994-08-16  The Federal Reserve announced today the follow...\n",
       "...                                                       ...\n",
       "2022-01-26  The Federal Reserve, the central bank of the U...\n",
       "2022-03-16    Indicators of economic activity and employme...\n",
       "2022-05-04    Although overall economic activity edged dow...\n",
       "2022-06-15    Overall economic activity appears to have pi...\n",
       "2022-07-27    Recent indicators of spending and production...\n",
       "\n",
       "[199 rows x 1 columns]"
      ]
     },
     "execution_count": 23,
     "metadata": {},
     "output_type": "execute_result"
    }
   ],
   "source": [
    "dataset1"
   ]
  },
  {
   "cell_type": "code",
   "execution_count": null,
   "id": "133bd729",
   "metadata": {},
   "outputs": [],
   "source": []
  },
  {
   "cell_type": "markdown",
   "id": "ba5543cd",
   "metadata": {},
   "source": [
    "## Ready LDA"
   ]
  },
  {
   "cell_type": "code",
   "execution_count": 3,
   "id": "b423e099",
   "metadata": {},
   "outputs": [
    {
     "name": "stderr",
     "output_type": "stream",
     "text": [
      "[nltk_data] Downloading package stopwords to\n",
      "[nltk_data]     C:\\Users\\20220034\\AppData\\Roaming\\nltk_data...\n",
      "[nltk_data]   Package stopwords is already up-to-date!\n"
     ]
    },
    {
     "data": {
      "text/plain": [
       "True"
      ]
     },
     "execution_count": 3,
     "metadata": {},
     "output_type": "execute_result"
    }
   ],
   "source": [
    "import nltk\n",
    "nltk.download('stopwords')"
   ]
  },
  {
   "cell_type": "code",
   "execution_count": 4,
   "id": "2720f207",
   "metadata": {},
   "outputs": [
    {
     "name": "stderr",
     "output_type": "stream",
     "text": [
      "C:\\Users\\20220034\\dev\\CBankVenv\\lib\\site-packages\\past\\builtins\\misc.py:45: DeprecationWarning: the imp module is deprecated in favour of importlib and slated for removal in Python 3.12; see the module's documentation for alternative uses\n",
      "  from imp import reload\n"
     ]
    }
   ],
   "source": [
    "import gensim, spacy\n",
    "import gensim.corpora as corpora\n",
    "from nltk.corpus import stopwords\n",
    "\n",
    "import pandas as pd\n",
    "import re\n",
    "from tqdm import tqdm\n",
    "import time\n",
    "\n",
    "\n",
    "import pyLDAvis\n",
    "import pyLDAvis.gensim_models as gensimvis # don't skip this\n",
    "# import matplotlib.pyplot as plt\n",
    "# %matplotlib inline\n",
    "\n",
    "## Setup nlp for spacy\n",
    "nlp = spacy.load(\"en_core_web_sm\")\n",
    "\n",
    "# Load NLTK stopwords\n",
    "stop_words = stopwords.words('english')\n",
    "# Add some extra words in it if required\n",
    "stop_words.extend(['from', 'subject', 'use','pron'])"
   ]
  },
  {
   "cell_type": "code",
   "execution_count": 108,
   "id": "2feaad58",
   "metadata": {},
   "outputs": [
    {
     "name": "stderr",
     "output_type": "stream",
     "text": [
      "100%|████████████████████████████████████████████████████████████████████████████████| 199/199 [00:13<00:00, 15.24it/s]\n",
      "100%|██████████████████████████████████████████████████████████████████████████████| 199/199 [00:00<00:00, 1282.36it/s]\n",
      "100%|██████████████████████████████████████████████████████████████████████████████| 199/199 [00:00<00:00, 1184.15it/s]\n"
     ]
    }
   ],
   "source": [
    "# Convert into list\n",
    "data = dataset1.FOMC_Statements.values.tolist()\n",
    "\n",
    "### Cleaning data\n",
    "\n",
    "\n",
    "# Remove new line characters and extra space\n",
    "data = [re.sub(r'\\s+', ' ', sent) for sent in data]\n",
    "# Remove single quotes\n",
    "data = [re.sub(\"'\", \"\", sent) for sent in data]\n",
    "\n",
    "### Lemmatization\n",
    "data_lemma = []\n",
    "for txt in tqdm(data):\n",
    "    lis = []\n",
    "    doc = nlp(txt)\n",
    "    for token in doc:\n",
    "        lis.append(token.lemma_)\n",
    "    data_lemma.append(' '.join(lis))\n",
    "\n",
    "### Tokenization and gensim stopword removal\n",
    "\n",
    "# You can look for all gensim stopwords by running -> 'gensim.parsing.preprocessing.STOPWORDS'\n",
    "\n",
    "# Function to tokenize\n",
    "# Also remove words whose length less than 3 (you can chang it)\n",
    "def tokenization_with_gen_stop(text):\n",
    "    result=[]\n",
    "    for token in gensim.utils.simple_preprocess(text) :\n",
    "        if token not in gensim.parsing.preprocessing.STOPWORDS and len(token) > 3:\n",
    "            result.append(token)\n",
    "\n",
    "    return result\n",
    "\n",
    "## Apply tokenization function\n",
    "data_words = []\n",
    "for txt in tqdm(data_lemma):\n",
    "    data_words.append(tokenization_with_gen_stop(txt))\n",
    "\n",
    "### NLTK Stopword removal (extra stopwords)\n",
    "\n",
    "data_words_clean = []\n",
    "for word in tqdm(data_words):\n",
    "    wrd = []\n",
    "    for w in word:\n",
    "        if w not in stop_words:\n",
    "            wrd.append(w)\n",
    "    data_words_clean.append(wrd)"
   ]
  },
  {
   "cell_type": "code",
   "execution_count": 110,
   "id": "b54d5308",
   "metadata": {},
   "outputs": [
    {
     "name": "stdout",
     "output_type": "stream",
     "text": [
      "{'accommodative': 0, 'action': 1, 'alan': 2, 'announce': 3, 'associate': 4, 'avoid': 5, 'chairman': 6, 'committee': 7, 'committees': 8, 'condition': 9, 'decide': 10, 'decision': 11, 'degree': 12, 'early': 13, 'economic': 14, 'enhance': 15, 'expansion': 16, 'expect': 17, 'fact': 18, 'federal': 19, 'firming': 20, 'greenspan': 21, 'immediately': 22, 'increase': 23, 'market': 24, 'monetary': 25, 'money': 26, 'open': 27, 'order': 28, 'policy': 29, 'position': 30, 'pressure': 31, 'purpose': 32, 'rate': 33, 'reserve': 34, 'short': 35, 'slightly': 36, 'small': 37, 'stance': 38, 'sustain': 39, 'term': 40, 'today': 41, 'accommodation': 42, 'adjustment': 43, 'agree': 44, 'allow': 45, 'appropriate': 46, 'approve': 47, 'atlanta': 48, 'bank': 49, 'banks': 50, 'board': 51, 'boards': 52, 'borrow': 53, 'boston': 54, 'charge': 55, 'chicago': 56, 'city': 57, 'combine': 58, 'completely': 59, 'continue': 60, 'dallas': 61, 'depository': 62, 'design': 63, 'development': 64, 'directors': 65, 'discount': 66, 'district': 67, 'effective': 68, 'favorable': 69, 'financial': 70, 'fomc': 71, 'francisco': 72, 'inflation': 73, 'initiate': 74, 'institution': 75, 'judge': 76, 'kansas': 77, 'louis': 78, 'maintain': 79, 'minneapolis': 80, 'monitor': 81, 'percent': 82, 'philadelphia': 83, 'prevail': 84, 'remove': 85, 'request': 86, 'richmond': 87, 'submit': 88, 'substantially': 89, 'trend': 90, 'year': 91, 'york': 92, 'background': 93, 'contain': 94, 'evidence': 95, 'follow': 96, 'foster': 97, 'gauge': 98, 'growth': 99, 'high': 100, 'inflationary': 101, 'intend': 102, 'level': 103, 'measure': 104, 'meet': 105, 'noninflationary': 106, 'objective': 107, 'resource': 108, 'strength': 109, 'sufficient': 110, 'sustainable': 111, 'sustained': 112, 'time': 113, 'utilization': 114, 'activity': 115, 'circumstance': 116, 'fully': 117, 'necessary': 118, 'persistent': 119, 'reflect': 120, 'related': 121, 'rise': 122, 'view': 123, 'advance': 124, 'despite': 125, 'immediate': 126, 'moderation': 127, 'pace': 128, 'release': 129, 'sign': 130, 'substantial': 131, 'tentative': 132, 'accommodate': 133, 'basis': 134, 'decline': 135, 'decrease': 136, 'fund': 137, 'modest': 138, 'point': 139, 'recede': 140, 'result': 141, 'tightening': 142, 'anticipate': 143, 'associated': 144, 'easing': 145, 'expectation': 146, 'july': 147, 'somewhat': 148, 'warrant': 149, 'absolute': 150, 'accessibility': 151, 'afford': 152, 'alpha': 153, 'aocp': 154, 'appendchild': 155, 'assurance': 156, 'azmv': 157, 'body': 158, 'border': 159, 'challenge': 160, 'change': 161, 'contentdocument': 162, 'contentwindow': 163, 'conviction': 164, 'cqorbs': 165, 'createelement': 166, 'current': 167, 'czmjxo': 168, 'date': 169, 'dcfrdexfqicp': 170, 'demand': 171, 'deukjb': 172, 'develop': 173, 'document': 174, 'domcontentloade': 175, 'economy': 176, 'economys': 177, 'einkemp': 178, 'environment': 179, 'essential': 180, 'event': 181, 'eventually': 182, 'exist': 183, 'experience': 184, 'floor': 185, 'function': 186, 'fvgksl': 187, 'great': 188, 'handler': 189, 'head': 190, 'height': 191, 'hidden': 192, 'home': 193, 'iframe': 194, 'imbalance': 195, 'innerhtml': 196, 'invisible': 197, 'left': 198, 'light': 199, 'loading': 200, 'long': 201, 'lspeflpq': 202, 'march': 203, 'math': 204, 'mcwhzlbgqv': 205, 'news': 206, 'nonce': 207, 'nvfls': 208, 'offset': 209, 'params': 210, 'percentage': 211, 'persist': 212, 'platform': 213, 'potential': 214, 'prev': 215, 'progressively': 216, 'prolong': 217, 'prudent': 218, 'readystate': 219, 'realize': 220, 'reinforce': 221, 'remain': 222, 'rest': 223, 'risk': 224, 'rphb': 225, 'script': 226, 'slight': 227, 'step': 228, 'style': 229, 'tighten': 230, 'undermine': 231, 'unksu': 232, 'update': 233, 'visibility': 234, 'vuqzpq': 235, 'width': 236, 'window': 237, 'wtfa': 238, 'ayxkh': 239, 'cleveland': 240, 'cmza': 241, 'cobl': 242, 'consistent': 243, 'cost': 244, 'cpwx': 245, 'fccfypgt': 246, 'forward': 247, 'fxvbmmaiby': 248, 'governors': 249, 'hixkkw': 250, 'hvte': 251, 'jbsyn': 252, 'jjkpm': 253, 'kzmzyq': 254, 'moderate': 255, 'month': 256, 'ozebv': 257, 'pqsb': 258, 'price': 259, 'recent': 260, 'reduce': 261, 'reduction': 262, 'rzca': 263, 'smpywnu': 264, 'ssqbyceadihbh': 265, 'subdue': 266, 'xyogc': 267, 'yqgfotdfdmmf': 268, 'ayiuaki': 269, 'cushion': 270, 'dkpohhwdagbc': 271, 'domestically': 272, 'ease': 273, 'effect': 274, 'faxglsenvehq': 275, 'foreign': 276, 'global': 277, 'ifiic': 278, 'inlfycwkwjuk': 279, 'mean': 280, 'mlqz': 281, 'mwuclqxbt': 282, 'oilgqaqmrq': 283, 'pndffot': 284, 'prospective': 285, 'qbpf': 286, 'rprvcc': 287, 'september': 288, 'states': 289, 'unchanged': 290, 'united': 291, 'ustbddikkgstr': 292, 'vqsqsfygbbvlqla': 293, 'vveh': 294, 'vwofe': 295, 'vzffkh': 296, 'weakness': 297, 'wgrd': 298, 'yeovkch': 299, 'yonwam': 300, 'aggregate': 301, 'backdrop': 302, 'bedb': 303, 'caution': 304, 'context': 305, 'duqxv': 306, 'ehslg': 307, 'fall': 308, 'future': 309, 'generally': 310, 'gjfk': 311, 'grow': 312, 'inykxlay': 313, 'jpxnllxhmrtvjs': 314, 'lender': 315, 'likely': 316, 'october': 317, 'omdzv': 318, 'restrain': 319, 'rloagd': 320, 'scripts': 321, 'slhkdnqowhueldu': 322, 'ukregkvtndkmm': 323, 'unsettled': 324, 'vfshtwui': 325, 'wuzhmtsoy': 326, 'yvkq': 327, 'yyqrzbyx': 328, 'diuhla': 329, 'egho': 330, 'grdsk': 331, 'hcjqjbti': 332, 'hpkrfpj': 333, 'ikhoye': 334, 'krbq': 335, 'materially': 336, 'november': 337, 'okoxog': 338, 'phvythlmr': 339, 'qzlu': 340, 'reasonably': 341, 'settle': 342, 'strain': 343, 'unusual': 344, 'vqglaioettif': 345, 'wiuohhobymkslg': 346, 'ybgbdexjwzrum': 347, 'adopt': 348, 'afqptbb': 349, 'alert': 350, 'alter': 351, 'awmq': 352, 'bhfq': 353, 'buildup': 354, 'come': 355, 'concern': 356, 'core': 357, 'directive': 358, 'domestic': 359, 'ecmsgaxor': 360, 'excess': 361, 'gain': 362, 'goed': 363, 'gwdvquuel': 364, 'iam_fq': 365, 'ikewmp': 366, 'improve': 367, 'indicate': 368, 'jjsezjeov': 369, 'kkqx': 370, 'kylic': 371, 'labor': 372, 'meeting': 373, 'myngm': 374, 'need': 375, 'okzpzadex': 376, 'ongoing': 377, 'pcbyv': 378, 'performance': 379, 'pijqey': 380, 'possibility': 381, 'productivity': 382, 'prospect': 383, 'qfpccf': 384, 'qpax': 385, 'recognize': 386, 'recover': 387, 'statement': 388, 'subdued': 389, 'tight': 390, 'tilt': 391, 'wmiv': 392, 'xceccd': 393, 'xywlm': 394, 'accordingly': 395, 'adpwzjtovcaq': 396, 'balance': 397, 'bnmerpimlwgcq': 398, 'bqsmxuq': 399, 'brisk': 400, 'bxsqq': 401, 'choose': 402, 'conflicting': 403, 'counter': 404, 'dynamic': 405, 'emergence': 406, 'especially': 407, 'firm': 408, 'force': 409, 'hvveapq': 410, 'include': 411, 'jgzgrqdkwnvwtu': 412, 'jikrztxd': 413, 'june': 414, 'mweanu': 415, 'near': 416, 'nejeakw': 417, 'nonetheless': 418, 'okij': 419, 'olsvwfxbbbn': 420, 'oodfuu': 421, 'pg_ngz': 422, 'predilection': 423, 'quarter': 424, 'raise': 425, 'resolution': 426, 'seizing': 427, 'significant': 428, 'strengthen': 429, 'target': 430, 'uncertain': 431, 'vote': 432, 'vryy': 433, 'xmaulogy': 434, 'ybtuogvkpgt': 435, 'ymfzmwdm': 436, 'ytiyxlare': 437, 'account': 438, 'assess': 439, 'atueneoa': 440, 'available': 441, 'axwv': 442, 'base': 443, 'bhsu': 444, 'cdzw': 445, 'century': 446, 'concerned': 447, 'december': 448, 'dhvsmd': 449, 'ehyfjami': 450, 'ensure': 451, 'exceed': 452, 'exemplary': 453, 'focus': 454, 'ijrua': 455, 'information': 456, 'intermeete': 457, 'iznx': 458, 'jswef': 459, 'jwsmkgo': 460, 'nxadmpkbv': 461, 'period': 462, 'possible': 463, 'qiblr': 464, 'qwru': 465, 'rcfzv': 466, 'remarkable': 467, 'rhbjznrehh': 468, 'smooth': 469, 'supply': 470, 'symmetric': 471, 'transition': 472, 'uncertainty': 473, 'uqyufgu': 474, 'wtcjlec': 475, 'xdtuhdqubzkyff': 476, 'zejbdo': 477, 'zgsxqi': 478, 'zzcmhsceb': 479, 'address': 480, 'aqklstu': 481, 'august': 482, 'cnbmpe': 483, 'consequence': 484, 'diminish': 485, 'egssza': 486, 'hvrzkgveyqt': 487, 'hxri': 488, 'iucvk': 489, 'markedly': 490, 'normally': 491, 'outlook': 492, 'qvcimydym': 493, 'regard': 494, 'require': 495, 'rohifj': 496, 'symmetrical': 497, 'tcldaqmfm': 498, 'turmoil': 499, 'uhfw': 500, 'uvniqwy': 501, 'vvqqtaltz': 502, 'wsziigbnh': 503, 'wvsqydhxcjstba': 504, 'xeda': 505, 'yhlzw': 506, 'yogc': 507, 'zanvoy': 508, 'additional': 509, 'ahead': 510, 'bias': 511, 'bshm': 512, 'cflc': 513, 'commitment': 514, 'contribute': 515, 'dezmqw': 516, 'dpdgubogzu': 517, 'eljqxvs': 518, 'emphasize': 519, 'enaudhfe': 520, 'evaluate': 521, 'impressive': 522, 'jkjulhtggjtu': 523, 'jlvbv': 524, 'kefn': 525, 'kmmw': 526, 'leave': 527, 'lvsse': 528, 'manner': 529, 'member': 530, 'mnjqmfmdql': 531, 'outpace': 532, 'pbkbyagkqz': 533, 'piybmgtmofk': 534, 'pool': 535, 'significantly': 536, 'signify': 537, 'suggest': 538, 'ulbuyk': 539, 'unit': 540, 'willing': 541, 'worker': 542, 'xjivpo': 543, 'xlrpi': 544, 'xmvimpsissc': 545, 'accelerate': 546, 'appear': 547, 'aytvbuj': 548, 'bjzh': 549, 'certain': 550, 'check': 551, 'course': 552, 'credit': 553, 'dmfjwrefhjjfx': 554, 'draw': 555, 'gbfwnrt': 556, 'hhknchjiqak': 557, 'kaem': 558, 'misrs': 559, 'ouvun': 560, 'podwv': 561, 'ppumnygulw': 562, 'qokrw': 563, 'sector': 564, 'sensitive': 565, 'sihxr': 566, 'slowing': 567, 'yekuaerwmdta': 568, 'awkmknrjibvk': 569, 'believe': 570, 'btbcu': 571, 'currently': 572, 'dbhh': 573, 'fddoogzwc': 574, 'february': 575, 'fmbdm_khubfuoq': 576, 'foreseeable': 577, 'fwpablgryugcnd': 578, 'generate': 579, 'glpuob': 580, 'goal': 581, 'heighten': 582, 'imefm': 583, 'jadcyjpyd': 584, 'jwxiitws': 585, 'krfymd': 586, 'loswq': 587, 'mainly': 588, 'mydzumh': 589, 'nnacm': 590, 'nqlxkqh': 591, 'nrniydvty': 592, 'pronounce': 593, 'qqbwth_dp': 594, 'record': 595, 'stability': 596, 'svay': 597, 'tbj_a': 598, 'vlccuf': 599, 'weight': 600, 'aeij': 601, 'aowmsc_ani': 602, 'consideration': 603, 'dzppvtqz': 604, 'essentially': 605, 'fdostjh': 606, 'fhwync': 607, 'gxuc': 608, 'ksgxiah': 609, 'ntrsdl': 610, 'orrpfb': 611, 'rpstgq': 612, 'rwnsktpdb': 613, 'sqliv': 614, 'wgrbspu': 615, 'wwtkui': 616, 'xawj': 617, 'xeefaa': 618, 'xjjcy': 619, 'xtmj': 620, 'xwbih': 621, 'ymhhndi': 622, 'zxnjenp': 623, 'agduxarouidfd': 624, 'continued': 625, 'disparity': 626, 'drive': 627, 'exert': 628, 'fddsxx': 629, 'iunwfvzzirq_vtr': 630, 'jlendysrz': 631, 'jpwc': 632, 'jvsobhor': 633, 'kttrgo': 634, 'nqfmoysw': 635, 'outstanding': 636, 'pztz': 637, 'rapid': 638, 'rbmgkiv': 639, 'tzjco': 640, 'uuuysmaslij': 641, 'wdmrneo': 642, 'xeba': 643, 'close': 644, 'datum': 645, 'dumjpijegr': 646, 'epvogqpvuihigd': 647, 'famv': 648, 'fast': 649, 'fkljgbgk': 650, 'fqdr': 651, 'hold': 652, 'jhxbtjhzpwdhfs': 653, 'jjzlwuiwpejxw': 654, 'kggdtnfrrk': 655, 'ldpevz': 656, 'preliminary': 657, 'produce': 658, 'underlie': 659, 'unusually': 660, 'vdbnxkw': 661, 'xiftppt': 662, 'yvdrvtpo': 663, 'ztlzwwsvs': 664, 'aceldrnzsf': 665, 'agczpyqmjh': 666, 'chbq_pd': 667, 'fffc': 668, 'fkhg': 669, 'lcqdpm': 670, 'mqisti': 671, 'mwymn': 672, 'mxocwlt': 673, 'nsrarqwrtxdubj': 674, 'svfcjf': 675, 'uapj': 676, 'uwawaqahpe': 677, 'uyjq': 678, 'wyqu': 679, 'yltmyqubkkl': 680, 'yzrxhnm': 681, 'zcen': 682, 'aautj': 683, 'adafzuqrvzmb': 684, 'arsmalktuf': 685, 'bebkqnuhwg': 686, 'behavior': 687, 'bvgu': 688, 'chjlea': 689, 'conducive': 690, 'digzzkqvue': 691, 'energy': 692, 'fevai': 693, 'gtse': 694, 'help': 695, 'htie': 696, 'importantly': 697, 'limit': 698, 'lpfbvfi': 699, 'maximum': 700, 'okdhue': 701, 'pose': 702, 'udaztvnw': 703, 'underlying': 704, 'vbedbikrvebuqy': 705, 'vnzfwhy': 706, 'vonjn': 707, 'wgftrk': 708, 'xmms': 709, 'absence': 710, 'awrjcxboisgv': 711, 'bbfba': 712, 'closely': 713, 'cnop': 714, 'confidence': 715, 'consequently': 716, 'consumer': 717, 'cyuayucfnpayh': 718, 'drag': 719, 'earning': 720, 'emslnuf': 721, 'erode': 722, 'evolve': 723, 'indication': 724, 'irvymwotly': 725, 'khwxanf': 726, 'profit': 727, 'qfvjv': 728, 'report': 729, 'sale': 730, 'segment': 731, 'shortfall': 732, 'situation': 733, 'slow': 734, 'stress': 735, 'wwbryjvj': 736, 'xfcfa': 737, 'zkcjlsvjkija': 738, 'acbgc': 739, 'business': 740, 'doicravfxs': 741, 'expand': 742, 'harbor': 743, 'household': 744, 'jhhjqx': 745, 'judgment': 746, 'ncbcagqavvxl': 747, 'noyomkw': 748, 'nrbkjna': 749, 'nsqxolrm': 750, 'obtsc': 751, 'oywu': 752, 'soften': 753, 'veonkpiu': 754, 'abate': 755, 'aeluthyvrlad': 756, 'cgbjdl': 757, 'dnkn': 758, 'fidw': 759, 'ghhzazi': 760, 'january': 761, 'jxmpoosn': 762, 'little': 763, 'lower': 764, 'lqov': 765, 'pavlypsssam': 766, 'power': 767, 'production': 768, 'purchasing': 769, 'qawl': 770, 'qdqjqgqawbyii': 771, 'ready': 772, 'rffy': 773, 'seven': 774, 'stand': 775, 'technology': 776, 'weakening': 777, 'xbdfab': 778, 'xexxij': 779, 'yioqr': 780, 'yrpaxftbyon': 781, 'yxutizfya': 782, 'accompany': 783, 'aelkkjlg': 784, 'appreciably': 785, 'aublilcuq': 786, 'capital': 787, 'cicu': 788, 'drain': 789, 'e_hp': 790, 'equipment': 791, 'exacerbate': 792, 'exhibit': 793, 'fdcac': 794, 'fnwewdz': 795, 'forceful': 796, 'hjjas': 797, 'inventory': 798, 'jcux': 799, 'jemydlqhw': 800, 'kltt': 801, 'kvkhul': 802, 'luziqj': 803, 'lwqi': 804, 'manufacturing': 805, 'margin': 806, 'nxdto': 807, 'ocstilb': 808, 'partly': 809, 'press': 810, 'puawfh': 811, 'qkrousy': 812, 'response': 813, 'retail': 814, 'sharply': 815, 'spending': 816, 'stock': 817, 'support': 818, 'vycz': 819, 'weaken': 820, 'xwcu': 821, 'arafvjri': 822, 'backup': 823, 'capacity': 824, 'ccfq': 825, 'consumption': 826, 'director': 827, 'emerge': 828, 'eohi': 829, 'equity': 830, 'hyzjtpemdjklti': 831, 'ihdmsl': 832, 'induce': 833, 'investment': 834, 'kjahdkp': 835, 'manufacture': 836, 'output': 837, 'productive': 838, 'rapidly': 839, 'recently': 840, 'soft': 841, 'szplkaipigp': 842, 'tzkpb': 843, 'underway': 844, 'vnytlaj': 845, 'wealth': 846, 'abroad': 847, 'advanced': 848, 'april': 849, 'area': 850, 'combination': 851, 'crys': 852, 'dampen': 853, 'dbkgx': 854, 'dfkspmmfepkc': 855, 'erosion': 856, 'expenditure': 857, 'extended': 858, 'flatten': 859, 'frgdp': 860, 'housing': 861, 'intact': 862, 'intermeeting': 863, 'largely': 864, 'mkznd': 865, 'poise': 866, 'probably': 867, 'profitability': 868, 'qcox': 869, 'qwmgci': 870, 'restraint': 871, 'review': 872, 'seobagg': 873, 'threaten': 874, 'tqmhomsv': 875, 'unacceptably': 876, 'vzdgjenbupe': 877, 'weak': 878, 'xdad': 879, 'zlug': 880, 'awqnrojza': 881, 'cawd': 882, 'considerable': 883, 'eilw': 884, 'ewxww': 885, 'fbgq': 886, 'htds': 887, 'iaacrh': 888, 'iimj': 889, 'jaulv': 890, 'ksffmz': 891, 'lmtdnjbeb': 892, 'mbwbsoepq': 893, 'product': 894, 'qbgjbgcpec': 895, 'rapu': 896, 'stall': 897, 'trabicwxhxgwav': 898, 'weigh': 899, 'wihttvntk': 900, 'ygzvxfze': 901, 'beginning': 902, 'bolster': 903, 'bring': 904, 'evident': 905, 'pattern': 906, 'actual': 907, 'damp': 908, 'employment': 909, 'functioning': 910, 'large': 911, 'liquidity': 912, 'normal': 913, 'occasion': 914, 'restore': 915, 'tragic': 916, 'volume': 917, 'week': 918, 'attack': 919, 'terrorist': 920, 'deterioration': 921, 'heightened': 922, 'reallocation': 923, 'security': 924, 'abating': 925, 'edge': 926, 'relatively': 927, 'sure': 928, 'begin': 929, 'prevalent': 930, 'promising': 931, 'recovery': 932, 'start': 933, 'announcement': 934, 'anthony': 935, 'bies': 936, 'choice': 937, 'conform': 938, 'dissenter': 939, 'edward': 940, 'element': 941, 'ferguson': 942, 'final': 943, 'gary': 944, 'gramlich': 945, 'jerry': 946, 'jordan': 947, 'mark': 948, 'marked': 949, 'mcdonough': 950, 'mcteer': 951, 'minutes': 952, 'olson': 953, 'practice': 954, 'preferred': 955, 'respect': 956, 'robert': 957, 'roger': 958, 'roll': 959, 'santomero': 960, 'stern': 961, 'strengthening': 962, 'susan': 963, 'swing': 964, 'vice': 965, 'voting': 966, 'william': 967, 'write': 968, 'confirm': 969, 'impetus': 970, 'receive': 971, 'upward': 972, 'pick': 973, 'robust': 974, 'bernanke': 975, 'climate': 976, 'corporate': 977, 'couple': 978, 'donald': 979, 'governance': 980, 'improving': 981, 'kohn': 982, 'problem': 983, 'relate': 984, 'reporting': 985, 'spring': 986, 'extent': 987, 'geopolitical': 988, 'governor': 989, 'pickup': 990, 'prefer': 991, 'president': 992, 'timing': 993, 'attributable': 994, 'contained': 995, 'helpful': 996, 'important': 997, 'incoming': 998, 'inhibit': 999, 'prove': 1000, 'provide': 1001, 'spot': 1002, 'tend': 1003, 'work': 1004, 'inconsistent': 1005, 'indicator': 1006, 'limited': 1007, 'number': 1008, 'achieve': 1009, 'alfred': 1010, 'attainment': 1011, 'broaddus': 1012, 'conclusion': 1013, 'contrast': 1014, 'debt': 1015, 'disappointing': 1016, 'downside': 1017, 'ebbing': 1018, 'equal': 1019, 'guynn': 1020, 'hostility': 1021, 'improvement': 1022, 'jack': 1023, 'michael': 1024, 'minor': 1025, 'moskow': 1026, 'parry': 1027, 'perceive': 1028, 'probability': 1029, 'reading': 1030, 'roughly': 1031, 'tension': 1032, 'unwelcome': 1033, 'upside': 1034, 'analyst': 1035, 'apparent': 1036, 'aspect': 1037, 'characterize': 1038, 'cloud': 1039, 'decisionmaking': 1040, 'determination': 1041, 'engender': 1042, 'hesitancy': 1043, 'informative': 1044, 'lift': 1045, 'mixed': 1046, 'particularly': 1047, 'premium': 1048, 'refrain': 1049, 'surveillance': 1050, 'usefully': 1051, 'hiring': 1052, 'reportedly': 1053, 'expansive': 1054, 'jamie': 1055, 'predominate': 1056, 'stabilize': 1057, 'stewart': 1058, 'accumulate': 1059, 'muted': 1060, 'predominant': 1061, 'pricing': 1062, 'undesirably': 1063, 'azcn': 1064, 'bmyspmoxz': 1065, 'briskly': 1066, 'eultfr': 1067, 'geithner': 1068, 'iwcavzciwed': 1069, 'jthimhjuym': 1070, 'lwhlcx': 1071, 'modestly': 1072, 'mute': 1073, 'nmeanbmzk': 1074, 'owtqbm': 1075, 'slack': 1076, 'timothy': 1077, 'unqpioqlat': 1078, 'uvxkzscplczv': 1079, 'uwlvwrrpdst': 1080, 'uxxgakh': 1081, 'vabsy': 1082, 'vhgpstqcb': 1083, 'ykhqovzef': 1084, 'zqiwbm': 1085, 'abyuqwyt': 1086, 'aeve': 1087, 'ajwgv': 1088, 'bylqh': 1089, 'cathy': 1090, 'ccfca': 1091, 'daczf': 1092, 'dronjvxar': 1093, 'exmi': 1094, 'heabdhhcug': 1095, 'hnqjnggk': 1096, 'hoenig': 1097, 'hqmxyg': 1098, 'jemaojvrnp': 1099, 'mihsho': 1100, 'minehan': 1101, 'niqrvixqq': 1102, 'patient': 1103, 'pianalto': 1104, 'poole': 1105, 'remains': 1106, 'rgyg': 1107, 'rysocyuzejbonm': 1108, 'sandra': 1109, 'thomas': 1110, 'tjzpt': 1111, 'tktw': 1112, 'urqtxjtu': 1113, 'wbnhwdmw': 1114, 'zkpdsxvlih': 1115, 'dzcy': 1116, 'eakpyhwqgui': 1117, 'fjjfjpquaf': 1118, 'jcnfkmjjki': 1119, 'jivmmtd': 1120, 'lcfgwep': 1121, 'lemkc': 1122, 'loss': 1123, 'rbrtyqfqc': 1124, 'rjzuq': 1125, 'sccue_tybto': 1126, 'slmvde': 1127, 'solid': 1128, 'wsdqdujbch': 1129, 'xwal': 1130, 'yejh': 1131, 'avffaya': 1132, 'btavgp': 1133, 'dcark': 1134, 'gafoopg': 1135, 'juncture': 1136, 'kadixycwd': 1137, 'musfpoboz': 1138, 'mwrcowe': 1139, 'nbnstkizrq': 1140, 'opmzwlsldpxl': 1141, 'pssrexw': 1142, 'qseaei': 1143, 'similarly': 1144, 'smfbsa': 1145, 'sojddpbsm': 1146, 'ubyoj': 1147, 'uejzioqvg': 1148, 'wciqxsq': 1149, 'wwlzpbh': 1150, 'xadfde': 1151, 'xzpk': 1152, 'zxqe': 1153, 'zztddvsc': 1154, 'acmoxtzf': 1155, 'afylfrhtn': 1156, 'anaiypef': 1157, 'elevate': 1158, 'factor': 1159, 'fulfill': 1160, 'hdavmx': 1161, 'hef_xeo': 1162, 'hpioozh': 1163, 'mwzhmi': 1164, 'obligation': 1165, 'portion': 1166, 'respond': 1167, 'smkhk': 1168, 'transitory': 1169, 'trmd': 1170, 'tumzljpv': 1171, 'ujnufmkly': 1172, 'wbnjnu': 1173, 'wvmfd': 1174, 'xkxfw': 1175, 'yezn': 1176, 'zgbbramgvw': 1177, 'afsyw': 1178, 'asrxgguzncyfab': 1179, 'atsi': 1180, 'delrxty': 1181, 'dylm': 1182, 'elhf': 1183, 'ewtgpj': 1184, 'hauyrxksum': 1185, 'kmhrkcigmlfjvqv': 1186, 'levhcqt': 1187, 'nlhnlnadkutx': 1188, 'padcllvnb': 1189, 'phads': 1190, 'resume': 1191, 'softness': 1192, 'strong': 1193, 'tdtci': 1194, 'tvxgkcyj': 1195, 'unanimously': 1196, 'wasm': 1197, 'wcriz': 1198, 'xcfb': 1199, 'xfzc': 1200, 'yhtrntc': 1201, 'bqxveeh': 1202, 'dour': 1203, 'fdowkkrtzdda': 1204, 'gudhxzepg': 1205, 'gunwsldom': 1206, 'jrhjr': 1207, 'jzyjticabs': 1208, 'kkxq': 1209, 'meehdg': 1210, 'njzq': 1211, 'ovvmruz': 1212, 'refcidzf': 1213, 'regain': 1214, 'toro': 1215, 'traction': 1216, 'tzrwkf': 1217, 'ujkmvfujregzish': 1218, 'wijqhgv': 1219, 'wsckehaimr': 1220, 'aarlrf': 1221, 'acxjxejy': 1222, 'ajijvnl': 1223, 'athmfvao': 1224, 'dnell': 1225, 'enjid': 1226, 'eockgvht': 1227, 'gyytokb': 1228, 'hhkrv': 1229, 'lafs': 1230, 'logdefmgz': 1231, 'pxvqkz': 1232, 'reeh': 1233, 'rfnqryje': 1234, 'soez': 1235, 'xqqg': 1236, 'xwwzrviichz': 1237, 'ybgtdgzgztkbzgn': 1238, 'yikjxos': 1239, 'addition': 1240, 'expedite': 1241, 'gradually': 1242, 'minute': 1243, 'regularly': 1244, 'schedule': 1245, 'evidently': 1246, 'feed': 1247, 'notably': 1248, 'fisher': 1249, 'richard': 1250, 'stay': 1251, 'apparently': 1252, 'spend': 1253, 'late': 1254, 'winter': 1255, 'boost': 1256, 'devastation': 1257, 'dislocation': 1258, 'disruption': 1259, 'elevating': 1260, 'good': 1261, 'gulf': 1262, 'hurricane': 1263, 'imply': 1264, 'infrastructure': 1265, 'katrina': 1266, 'refining': 1267, 'region': 1268, 'threat': 1269, 'toll': 1270, 'unfortunate': 1271, 'volatility': 1272, 'widespread': 1273, 'affect': 1274, 'augment': 1275, 'cumulative': 1276, 'depress': 1277, 'elevated': 1278, 'plan': 1279, 'rebuilding': 1280, 'temporarily': 1281, 'accounts': 1282, 'actions': 1283, 'analysis': 1284, 'applications': 1285, 'assessments': 1286, 'assets': 1287, 'avenue': 1288, 'balances': 1289, 'banking': 1290, 'central': 1291, 'communications': 1292, 'community': 1293, 'constitution': 1294, 'coordination': 1295, 'data': 1296, 'dealer': 1297, 'developments': 1298, 'enforcement': 1299, 'exchange': 1300, 'finance': 1301, 'financing': 1302, 'flexible': 1303, 'forms': 1304, 'forums': 1305, 'implementation': 1306, 'industrial': 1307, 'infrastructures': 1308, 'international': 1309, 'janet': 1310, 'jeffrey': 1311, 'lacker': 1312, 'legal': 1313, 'letters': 1314, 'liabilities': 1315, 'manual': 1316, 'mdrm': 1317, 'micro': 1318, 'models': 1319, 'nation': 1320, 'notes': 1321, 'papers': 1322, 'payment': 1323, 'policies': 1324, 'principles': 1325, 'rates': 1326, 'reference': 1327, 'regulation': 1328, 'regulations': 1329, 'regulatory': 1330, 'reports': 1331, 'research': 1332, 'resources': 1333, 'safe': 1334, 'services': 1335, 'share': 1336, 'stable': 1337, 'statutes': 1338, 'strategy': 1339, 'street': 1340, 'structure': 1341, 'supervision': 1342, 'terms': 1343, 'tools': 1344, 'uneven': 1345, 'utilities': 1346, 'washington': 1347, 'working': 1348, 'yellen': 1349, 'commodity': 1350, 'fourth': 1351, 'kevin': 1352, 'kroszner': 1353, 'randall': 1354, 'real': 1355, 'rebound': 1356, 'special': 1357, 'strongly': 1358, 'temporary': 1359, 'warsh': 1360, 'cooling': 1361, 'depend': 1362, 'evolution': 1363, 'gradual': 1364, 'frederic': 1365, 'mishkin': 1366, 'overall': 1367, 'stabilization': 1368, 'fail': 1369, 'convincingly': 1370, 'demonstrate': 1371, 'half': 1372, 'correction': 1373, 'eric': 1374, 'income': 1375, 'rosengren': 1376, 'volatile': 1377, 'facilitate': 1378, 'funding': 1379, 'operation': 1380, 'orderly': 1381, 'promote': 1382, 'source': 1383, 'trading': 1384, 'adverse': 1385, 'arise': 1386, 'deteriorate': 1387, 'favor': 1388, 'mitigate': 1389, 'prepared': 1390, 'broad': 1391, 'carefully': 1392, 'charles': 1393, 'evans': 1394, 'forestall': 1395, 'intensify': 1396, 'regular': 1397, 'surround': 1398, 'intensification': 1399, 'renew': 1400, 'absent': 1401, 'appreciable': 1402, 'contraction': 1403, 'deepening': 1404, 'justify': 1405, 'timely': 1406, 'plosser': 1407, 'actionsthe': 1408, 'agency': 1409, 'arrangement': 1410, 'auction': 1411, 'authorize': 1412, 'banksbank': 1413, 'billion': 1414, 'canada': 1415, 'case': 1416, 'collateral': 1417, 'consult': 1418, 'coordinate': 1419, 'coordinated': 1420, 'cumulate': 1421, 'currency': 1422, 'dollar': 1423, 'england': 1424, 'englandeuropean': 1425, 'european': 1426, 'extend': 1427, 'facility': 1428, 'facilityterms': 1429, 'feature': 1430, 'friday': 1431, 'japan': 1432, 'label': 1433, 'lend': 1434, 'lending': 1435, 'line': 1436, 'mortgage': 1437, 'national': 1438, 'overnight': 1439, 'pledge': 1440, 'primary': 1441, 'private': 1442, 'process': 1443, 'program': 1444, 'question': 1445, 'reciprocal': 1446, 'represent': 1447, 'repurchase': 1448, 'residential': 1449, 'respectively': 1450, 'riksbank': 1451, 'secure': 1452, 'securities': 1453, 'series': 1454, 'size': 1455, 'specific': 1456, 'supplement': 1457, 'sverige': 1458, 'swap': 1459, 'swiss': 1460, 'technical': 1461, 'transaction': 1462, 'treasury': 1463, 'tslf': 1464, 'undertake': 1465, 'website': 1466, 'weekly': 1467, 'aggressive': 1468, 'leveling': 1469, 'project': 1470, 'deepen': 1471, 'later': 1472, 'state': 1473, 'duke': 1474, 'elizabeth': 1475, 'export': 1476, 'highly': 1477, 'second': 1478, 'spur': 1479, 'alternate': 1480, 'christine': 1481, 'cumming': 1482, 'softening': 1483, 'ability': 1484, 'anchored': 1485, 'canadabank': 1486, 'consultation': 1487, 'continuous': 1488, 'cooperate': 1489, 'country': 1490, 'crisis': 1491, 'engage': 1492, 'express': 1493, 'joint': 1494, 'obtain': 1495, 'provision': 1496, 'sveriges': 1497, 'sweden': 1498, 'unprecedented': 1499, 'extraordinary': 1500, 'official': 1501, 'return': 1502, 'asset': 1503, 'benefit': 1504, 'consider': 1505, 'employ': 1506, 'establish': 1507, 'exceptionally': 1508, 'extension': 1509, 'implement': 1510, 'loan': 1511, 'particular': 1512, 'preserve': 1513, 'previously': 1514, 'purchase': 1515, 'quantity': 1516, 'range': 1517, 'required': 1518, 'reserves': 1519, 'resumption': 1520, 'sheet': 1521, 'stimulate': 1522, 'strained': 1523, 'tool': 1524, 'composition': 1525, 'dennis': 1526, 'dudley': 1527, 'duration': 1528, 'effort': 1529, 'extremely': 1530, 'furthermore': 1531, 'government': 1532, 'lockhart': 1533, 'modification': 1534, 'serve': 1535, 'steeply': 1536, 'contract': 1537, 'daniel': 1538, 'difficulty': 1539, 'eligible': 1540, 'fiscal': 1541, 'launch': 1542, 'lead': 1543, 'major': 1544, 'partner': 1545, 'recession': 1546, 'sentiment': 1547, 'slump': 1548, 'stimulus': 1549, 'tarullo': 1550, 'total': 1551, 'trillion': 1552, 'autumn': 1553, 'constrain': 1554, 'staffing': 1555, 'alignment': 1556, 'progress': 1557, 'complete': 1558, 'sluggish': 1559, 'downturn': 1560, 'execute': 1561, 'severe': 1562, 'wide': 1563, 'anticipated': 1564, 'commercial': 1565, 'counterpartie': 1566, 'expiration': 1567, 'expire': 1568, 'issue': 1569, 'modify': 1570, 'mutual': 1571, 'paper': 1572, 'payroll': 1573, 'reluctant': 1574, 'scale': 1575, 'supportive': 1576, 'type': 1577, 'availability': 1578, 'path': 1579, 'build': 1580, 'bullard': 1581, 'create': 1582, 'depressed': 1583, 'employer': 1584, 'flexibility': 1585, 'james': 1586, 'macroeconomic': 1587, 'nonresidential': 1588, 'software': 1589, 'unemployment': 1590, 'completion': 1591, 'flat': 1592, 'offer': 1593, 'sufficiently': 1594, 'wind': 1595, 'allotment': 1596, 'center': 1597, 'conduct': 1598, 'drawing': 1599, 'europe': 1600, 'faqs': 1601, 'local': 1602, 'place': 1603, 'prevent': 1604, 'reemergence': 1605, 'reestablishment': 1606, 'shortly': 1607, 'similar': 1608, 'soon': 1609, 'spread': 1610, 'swaps': 1611, 'tender': 1612, 'proceed': 1613, 'adjust': 1614, 'carry': 1615, 'constant': 1616, 'desk': 1617, 'holding': 1618, 'mature': 1619, 'note': 1620, 'operational': 1621, 'principal': 1622, 'reinveste': 1623, 'text': 1624, 'mandate': 1625, 'reinvest': 1626, 'bloom': 1627, 'cause': 1628, 'destabilize': 1629, 'disappointingly': 1630, 'dual': 1631, 'outweigh': 1632, 'raskin': 1633, 'relative': 1634, 'sarah': 1635, 'seek': 1636, 'statutory': 1637, 'downward': 1638, 'insufficient': 1639, 'kocherlakota': 1640, 'narayana': 1641, 'attention': 1642, 'crude': 1643, 'footing': 1644, 'sharp': 1645, 'summer': 1646, 'push': 1647, 'average': 1648, 'maturity': 1649, 'medium': 1650, 'moderately': 1651, 'notwithstanding': 1652, 'chain': 1653, 'dissipate': 1654, 'food': 1655, 'import': 1656, 'past': 1657, 'slowly': 1658, 'subside': 1659, 'considerably': 1660, 'discuss': 1661, 'peak': 1662, 'previous': 1663, 'reversal': 1664, 'description': 1665, 'john': 1666, 'omit': 1667, 'williams': 1668, 'frequently': 1669, 'motor': 1670, 'questions': 1671, 'refer': 1672, 'reinvestment': 1673, 'sell': 1674, 'twist': 1675, 'vehicle': 1676, 'gasoline': 1677, 'subsequently': 1678, 'lately': 1679, 'albeit': 1680, 'determine': 1681, 'efficacy': 1682, 'jeremy': 1683, 'jerome': 1684, 'oppose': 1685, 'powell': 1686, 'stein': 1687, 'transactions': 1688, 'decelerate': 1689, 'approximately': 1690, 'continuation': 1691, 'redeem': 1692, 'specifically': 1693, 'disagree': 1694, 'quickly': 1695, 'anchor': 1696, 'apart': 1697, 'approach': 1698, 'balanced': 1699, 'fluctuation': 1700, 'guidance': 1701, 'initially': 1702, 'purchases': 1703, 'threshold': 1704, 'variation': 1705, 'weather': 1706, 'esther': 1707, 'george': 1708, 'pause': 1709, 'restrictive': 1710, 'defend': 1711, 'influence': 1712, 'signal': 1713, 'willingness': 1714, 'persistently': 1715, 'reaffirm': 1716, 'assessment': 1717, 'await': 1718, 'contingent': 1719, 'observe': 1720, 'preset': 1721, 'retrenchment': 1722, 'turn': 1723, 'broadly': 1724, 'clearly': 1725, 'inception': 1726, 'nearly': 1727, 'premature': 1728, 'sizable': 1729, 'chair': 1730, 'credibility': 1731, 'fifth': 1732, 'forth': 1733, 'hinder': 1734, 'intention': 1735, 'paragraph': 1736, 'sixth': 1737, 'brainard': 1738, 'fischer': 1739, 'lael': 1740, 'loretta': 1741, 'mester': 1742, 'stanley': 1743, 'dependent': 1744, 'language': 1745, 'likelihood': 1746, 'object': 1747, 'changed': 1748, 'general': 1749, 'compensation': 1750, 'consistency': 1751, 'conversely': 1752, 'envision': 1753, 'importance': 1754, 'majority': 1755, 'normalize': 1756, 'occur': 1757, 'passage': 1758, 'survey': 1759, 'undue': 1760, 'commit': 1761, 'conclude': 1762, 'slide': 1763, 'sluggishness': 1764, 'harker': 1765, 'inform': 1766, 'kaplan': 1767, 'kashkari': 1768, 'neel': 1769, 'normalization': 1770, 'patrick': 1771, 'exclude': 1772, 'fundamental': 1773, 'underpin': 1774, 'accompanying': 1775, 'addendum': 1776, 'like': 1777, 'aftermath': 1778, 'devastate': 1779, 'hardship': 1780, 'harvey': 1781, 'hurricanes': 1782, 'inflict': 1783, 'irma': 1784, 'item': 1785, 'maria': 1786, 'storm': 1787, 'unlikely': 1788, 'drop': 1789, 'quarles': 1790, 'randal': 1791, 'barkin': 1792, 'bostic': 1793, 'raphael': 1794, 'clarida': 1795, 'daly': 1796, 'mary': 1797, 'bowman': 1798, 'implication': 1799, 'michelle': 1800, 'outcome': 1801, 'contemplate': 1802, 'acceptable': 1803, 'accordance': 1804, 'active': 1805, 'administer': 1806, 'adversely': 1807, 'agreement': 1808, 'ample': 1809, 'calendar': 1810, 'connection': 1811, 'control': 1812, 'convention': 1813, 'counterparty': 1814, 'coupon': 1815, 'deviation': 1816, 'direct': 1817, 'efficient': 1818, 'exercise': 1819, 'holiday': 1820, 'instruct': 1821, 'liability': 1822, 'management': 1823, 'match': 1824, 'notation': 1825, 'offering': 1826, 'operations': 1827, 'outright': 1828, 'primarily': 1829, 'purely': 1830, 'reason': 1831, 'regime': 1832, 'reverse': 1833, 'setting': 1834, 'settlement': 1835, 'value': 1836, 'weekend': 1837, 'yorks': 1838, 'backe': 1839, 'challenging': 1840, 'constraint': 1841, 'covid': 1842, 'flow': 1843, 'health': 1844, 'impede': 1845, 'monthly': 1846, 'pandemic': 1847, 'public': 1848, 'reach': 1849, 'reopening': 1850, 'vaccination': 1851, 'variant': 1852, 'virus': 1853, 'coronavirus': 1854, 'confident': 1855, 'disrupt': 1856, 'harm': 1857, 'outbreak': 1858, 'track': 1859, 'broader': 1860, 'extensive': 1861, 'inquiry': 1862, 'transmission': 1863, 'alternative': 1864, 'authority': 1865, 'consist': 1866, 'denominate': 1867, 'enter': 1868, 'establishment': 1869, 'fima': 1870, 'holder': 1871, 'jurisdiction': 1872, 'recognition': 1873, 'repo': 1874, 'role': 1875, 'service': 1876, 'tuesday': 1877, 'heavily': 1878, 'human': 1879, 'impair': 1880, 'protect': 1881, 'surge': 1882, 'tremendous': 1883, 'world': 1884, 'academic': 1885, 'accountability': 1886, 'adapt': 1887, 'analytical': 1888, 'appreciation': 1889, 'approval': 1890, 'articulate': 1891, 'collection': 1892, 'communication': 1893, 'component': 1894, 'conference': 1895, 'conferences': 1896, 'consecutive': 1897, 'convene': 1898, 'decade': 1899, 'discussion': 1900, 'distinct': 1901, 'effectiveness': 1902, 'employee': 1903, 'expert': 1904, 'explore': 1905, 'federalreserve': 1906, 'fedlistens': 1907, 'files': 1908, 'finally': 1909, 'fomccalendars': 1910, 'foundation': 1911, 'framework': 1912, 'goals': 1913, 'group': 1914, 'hear': 1915, 'host': 1916, 'https': 1917, 'involve': 1918, 'link': 1919, 'listen': 1920, 'longer': 1921, 'monetarypolicy': 1922, 'numerous': 1923, 'owner': 1924, 'perspective': 1925, 'policymaker': 1926, 'presentation': 1927, 'prominent': 1928, 'publications': 1929, 'resident': 1930, 'retiree': 1931, 'revise': 1932, 'session': 1933, 'staff': 1934, 'summarize': 1935, 'team': 1936, 'thursday': 1937, 'topic': 1938, 'transparency': 1939, 'unanimous': 1940, 'union': 1941, 'updated': 1942, 'video': 1943, 'concentrate': 1944, 'amid': 1945, 'invasion': 1946, 'russia': 1947, 'ukraine': 1948, 'attentive': 1949, 'china': 1950, 'conjunction': 1951, 'lockdown': 1952, 'committed': 1953, 'russias': 1954}\n",
      "[(0, 1), (1, 2), (2, 1), (3, 2), (4, 1), (5, 1), (6, 2), (7, 2), (8, 1), (9, 1), (10, 2), (11, 1), (12, 1), (13, 1), (14, 1), (15, 1), (16, 1), (17, 1), (18, 1), (19, 1), (20, 1), (21, 2), (22, 1), (23, 2), (24, 3), (25, 1), (26, 1), (27, 1), (28, 1), (29, 1), (30, 1), (31, 1), (32, 1), (33, 1), (34, 2), (35, 1), (36, 1), (37, 1), (38, 1), (39, 1), (40, 1), (41, 1)]\n"
     ]
    }
   ],
   "source": [
    "# Create Dictionary\n",
    "dictionary = corpora.Dictionary(data_words_clean)\n",
    "# Print dictionary\n",
    "print(dictionary.token2id)\n",
    "\n",
    "## Create Term document frequency (corpus)\n",
    "# Term Document Frequency\n",
    "corpus = [dictionary.doc2bow(text) for text in data_words_clean]\n",
    "# Print corpus for first document\n",
    "print(corpus[0])"
   ]
  },
  {
   "cell_type": "code",
   "execution_count": 111,
   "id": "45101811",
   "metadata": {},
   "outputs": [
    {
     "data": {
      "text/plain": [
       "[[('accommodative', 1),\n",
       "  ('action', 2),\n",
       "  ('alan', 1),\n",
       "  ('announce', 2),\n",
       "  ('associate', 1),\n",
       "  ('avoid', 1),\n",
       "  ('chairman', 2),\n",
       "  ('committee', 2),\n",
       "  ('committees', 1),\n",
       "  ('condition', 1),\n",
       "  ('decide', 2),\n",
       "  ('decision', 1),\n",
       "  ('degree', 1),\n",
       "  ('early', 1),\n",
       "  ('economic', 1),\n",
       "  ('enhance', 1),\n",
       "  ('expansion', 1),\n",
       "  ('expect', 1),\n",
       "  ('fact', 1),\n",
       "  ('federal', 1),\n",
       "  ('firming', 1),\n",
       "  ('greenspan', 2),\n",
       "  ('immediately', 1),\n",
       "  ('increase', 2),\n",
       "  ('market', 3),\n",
       "  ('monetary', 1),\n",
       "  ('money', 1),\n",
       "  ('open', 1),\n",
       "  ('order', 1),\n",
       "  ('policy', 1),\n",
       "  ('position', 1),\n",
       "  ('pressure', 1),\n",
       "  ('purpose', 1),\n",
       "  ('rate', 1),\n",
       "  ('reserve', 2),\n",
       "  ('short', 1),\n",
       "  ('slightly', 1),\n",
       "  ('small', 1),\n",
       "  ('stance', 1),\n",
       "  ('sustain', 1),\n",
       "  ('term', 1),\n",
       "  ('today', 1)]]"
      ]
     },
     "execution_count": 111,
     "metadata": {},
     "output_type": "execute_result"
    }
   ],
   "source": [
    "# Easy to observe format of corpus\n",
    "[[(dictionary[id], freq) for id, freq in cp] for cp in corpus[:1]]"
   ]
  },
  {
   "cell_type": "markdown",
   "id": "9c5dfa42",
   "metadata": {},
   "source": [
    "## Train"
   ]
  },
  {
   "cell_type": "code",
   "execution_count": 117,
   "id": "992031e8",
   "metadata": {},
   "outputs": [
    {
     "name": "stdout",
     "output_type": "stream",
     "text": [
      "--- 2.505099058151245 seconds ---\n"
     ]
    }
   ],
   "source": [
    "start_time = time.time()\n",
    "##\n",
    "NUM_TOPICS = 5\n",
    "ldamodel = gensim.models.ldamodel.LdaModel(corpus, num_topics = NUM_TOPICS, id2word=dictionary,random_state=100,passes=10)\n",
    "# Saving trained model\n",
    "ldamodel.save('LDA_NYT')\n",
    "# Loading trained model\n",
    "ldamodel = gensim.models.ldamodel.LdaModel.load('LDA_NYT')\n",
    "## Print time taken to train the model\n",
    "print(\"--- %s seconds ---\" % (time.time() - start_time))"
   ]
  },
  {
   "cell_type": "code",
   "execution_count": 121,
   "id": "15a971cc",
   "metadata": {},
   "outputs": [
    {
     "name": "stdout",
     "output_type": "stream",
     "text": [
      "--- 10.024554014205933 seconds ---\n"
     ]
    }
   ],
   "source": [
    "start_time = time.time()\n",
    "##\n",
    "## Multicore LDA\n",
    "NUM_TOPICS = 5\n",
    "lda_multicore_model = gensim.models.ldamulticore.LdaMulticore(corpus, num_topics = NUM_TOPICS, id2word=dictionary,random_state=100,passes=10)\n",
    "# Saving trained model\n",
    "lda_multicore_model.save('LDA_NYT_multicore')\n",
    "# Loading trained model\n",
    "lda_multicore_model = gensim.models.ldamodel.LdaModel.load('LDA_NYT_multicore')\n",
    "## Print time taken to train the model\n",
    "print(\"--- %s seconds ---\" % (time.time() - start_time))"
   ]
  },
  {
   "cell_type": "code",
   "execution_count": 122,
   "id": "9e520169",
   "metadata": {},
   "outputs": [
    {
     "data": {
      "text/plain": [
       "[(0,\n",
       "  '0.031*\"federal\" + 0.027*\"rate\" + 0.019*\"reserve\" + 0.016*\"growth\" + 0.016*\"economic\" + 0.016*\"committee\" + 0.015*\"discount\" + 0.013*\"action\" + 0.013*\"document\" + 0.012*\"board\"'),\n",
       " (1,\n",
       "  '0.030*\"policy\" + 0.027*\"monetary\" + 0.025*\"committee\" + 0.015*\"chairman\" + 0.014*\"economic\" + 0.014*\"growth\" + 0.013*\"federal\" + 0.013*\"action\" + 0.011*\"believe\" + 0.011*\"risk\"'),\n",
       " (2,\n",
       "  '0.028*\"federal\" + 0.024*\"bank\" + 0.023*\"reserve\" + 0.019*\"market\" + 0.018*\"financial\" + 0.014*\"data\" + 0.014*\"policy\" + 0.012*\"monetary\" + 0.012*\"committee\" + 0.011*\"action\"'),\n",
       " (3,\n",
       "  '0.027*\"committee\" + 0.025*\"inflation\" + 0.018*\"market\" + 0.017*\"federal\" + 0.016*\"policy\" + 0.016*\"economic\" + 0.016*\"financial\" + 0.014*\"rate\" + 0.012*\"data\" + 0.011*\"monetary\"'),\n",
       " (4,\n",
       "  '0.023*\"policy\" + 0.023*\"committee\" + 0.021*\"action\" + 0.017*\"monetary\" + 0.014*\"inflation\" + 0.014*\"document\" + 0.014*\"price\" + 0.014*\"federal\" + 0.011*\"approve\" + 0.011*\"board\"')]"
      ]
     },
     "execution_count": 122,
     "metadata": {},
     "output_type": "execute_result"
    }
   ],
   "source": [
    "ldamodel.print_topics(-1)"
   ]
  },
  {
   "cell_type": "code",
   "execution_count": 123,
   "id": "0223782b",
   "metadata": {},
   "outputs": [
    {
     "name": "stdout",
     "output_type": "stream",
     "text": [
      "nPerplexity Score:  -5.760640218928027\n",
      "nCoherence Score:  0.49861073613410467\n"
     ]
    }
   ],
   "source": [
    "# Compute Perplexity Score\n",
    "print('nPerplexity Score: ', ldamodel.log_perplexity(corpus))\n",
    "\n",
    "# Compute Coherence Score\n",
    "coherence_model_lda = gensim.models.CoherenceModel(model=ldamodel, texts=data_words_clean, dictionary=dictionary, coherence='c_v')\n",
    "coherence_lda = coherence_model_lda.get_coherence()\n",
    "print('nCoherence Score: ', coherence_lda)"
   ]
  },
  {
   "cell_type": "code",
   "execution_count": 124,
   "id": "2ad35167",
   "metadata": {},
   "outputs": [
    {
     "name": "stderr",
     "output_type": "stream",
     "text": [
      "C:\\Users\\20220034\\dev\\CBankVenv\\lib\\site-packages\\pyLDAvis\\_prepare.py:247: FutureWarning: In a future version of pandas all arguments of DataFrame.drop except for the argument 'labels' will be keyword-only.\n",
      "  by='saliency', ascending=False).head(R).drop('saliency', 1)\n"
     ]
    },
    {
     "data": {
      "text/html": [
       "\n",
       "<link rel=\"stylesheet\" type=\"text/css\" href=\"https://cdn.jsdelivr.net/gh/bmabey/pyLDAvis@3.3.1/pyLDAvis/js/ldavis.v1.0.0.css\">\n",
       "\n",
       "\n",
       "<div id=\"ldavis_el38361994888077360531893467\"></div>\n",
       "<script type=\"text/javascript\">\n",
       "\n",
       "var ldavis_el38361994888077360531893467_data = {\"mdsDat\": {\"x\": [0.19135150464437908, -0.08430111977552779, -0.13778791520924666, -0.13575782921942764, 0.16649535955982278], \"y\": [-0.03435023482800814, 0.14802872230537453, -0.008974793137522048, -0.11661752026958712, 0.011913825929742758], \"topics\": [1, 2, 3, 4, 5], \"cluster\": [1, 1, 1, 1, 1], \"Freq\": [37.08807701806603, 21.304888750089887, 16.265186422216495, 14.663061300661223, 10.678786508966366]}, \"tinfo\": {\"Term\": [\"bank\", \"data\", \"reserve\", \"financial\", \"policy\", \"document\", \"monetary\", \"federal\", \"chairman\", \"action\", \"approve\", \"discount\", \"supervision\", \"central\", \"news\", \"home\", \"accessibility\", \"growth\", \"believe\", \"greenspan\", \"security\", \"update\", \"alan\", \"gramlich\", \"mark\", \"olson\", \"roger\", \"ferguson\", \"board\", \"edward\", \"mandate\", \"unemployment\", \"seek\", \"progress\", \"assessment\", \"statutory\", \"dual\", \"determine\", \"asset\", \"dudley\", \"relative\", \"anticipate\", \"balanced\", \"average\", \"daniel\", \"overall\", \"tarullo\", \"moderately\", \"highly\", \"food\", \"mature\", \"gradual\", \"path\", \"exceptionally\", \"survey\", \"compensation\", \"range\", \"implication\", \"item\", \"employ\", \"maximum\", \"objective\", \"holding\", \"wide\", \"purchase\", \"recovery\", \"janet\", \"employment\", \"committees\", \"consistent\", \"strong\", \"mortgage\", \"outlook\", \"security\", \"agency\", \"appropriate\", \"data\", \"stable\", \"financial\", \"inflation\", \"labor\", \"payment\", \"development\", \"supervision\", \"committee\", \"market\", \"expectation\", \"level\", \"condition\", \"month\", \"economic\", \"continue\", \"remain\", \"policy\", \"federal\", \"rate\", \"percent\", \"long\", \"stability\", \"monetary\", \"bank\", \"reserve\", \"fund\", \"term\", \"price\", \"activity\", \"economys\", \"district\", \"consequence\", \"borrow\", \"charge\", \"capital\", \"worker\", \"pool\", \"produce\", \"technology\", \"persistent\", \"depository\", \"profitability\", \"develop\", \"profit\", \"consumption\", \"reasonably\", \"favorable\", \"associated\", \"erosion\", \"symmetrical\", \"intact\", \"preliminary\", \"impressive\", \"unusual\", \"record\", \"advanced\", \"possibility\", \"margin\", \"eventually\", \"excess\", \"enhance\", \"undermine\", \"generate\", \"mainly\", \"weight\", \"rapid\", \"potential\", \"discount\", \"demand\", \"inflationary\", \"background\", \"weakness\", \"banks\", \"reduction\", \"available\", \"request\", \"heighten\", \"approve\", \"submit\", \"rate\", \"foreseeable\", \"document\", \"federal\", \"boards\", \"reserve\", \"directors\", \"growth\", \"board\", \"point\", \"basis\", \"future\", \"productivity\", \"sustainable\", \"long\", \"economic\", \"action\", \"continue\", \"condition\", \"percent\", \"risk\", \"committee\", \"market\", \"price\", \"term\", \"information\", \"today\", \"policy\", \"inflation\", \"fulfill\", \"obligation\", \"respond\", \"expedite\", \"portion\", \"minute\", \"bias\", \"signify\", \"outpace\", \"relatively\", \"softness\", \"regain\", \"traction\", \"century\", \"remarkable\", \"cushion\", \"domestically\", \"mean\", \"depress\", \"lender\", \"exemplary\", \"caution\", \"leave\", \"backdrop\", \"unsettled\", \"unanimously\", \"lafs\", \"wasm\", \"trmd\", \"elhf\", \"emphasize\", \"minehan\", \"cathy\", \"remove\", \"contained\", \"output\", \"timothy\", \"geithner\", \"minneapolis\", \"poole\", \"despite\", \"underlie\", \"perceive\", \"need\", \"change\", \"attainment\", \"upside\", \"city\", \"louis\", \"kansas\", \"roughly\", \"equal\", \"philadelphia\", \"chicago\", \"document\", \"action\", \"approve\", \"point\", \"policy\", \"basis\", \"price\", \"committee\", \"board\", \"monetary\", \"chairman\", \"inflation\", \"style\", \"federal\", \"growth\", \"percent\", \"pace\", \"believe\", \"increase\", \"rate\", \"stability\", \"economic\", \"market\", \"remain\", \"event\", \"likely\", \"accessibility\", \"update\", \"home\", \"mcdonough\", \"parry\", \"mcteer\", \"broaddus\", \"alfred\", \"jerry\", \"jordan\", \"important\", \"probability\", \"respect\", \"geopolitical\", \"minor\", \"climate\", \"contrast\", \"stewart\", \"jamie\", \"unwelcome\", \"hiring\", \"emergence\", \"undesirably\", \"swing\", \"muted\", \"choice\", \"dissenter\", \"improving\", \"spot\", \"disappointing\", \"lift\", \"analyst\", \"briskly\", \"robert\", \"confirm\", \"final\", \"pickup\", \"uncertain\", \"guynn\", \"gramlich\", \"jack\", \"edward\", \"greenspan\", \"alan\", \"ferguson\", \"roger\", \"mark\", \"olson\", \"bies\", \"susan\", \"news\", \"home\", \"accessibility\", \"update\", \"chairman\", \"monetary\", \"policy\", \"event\", \"voting\", \"believe\", \"committee\", \"fomc\", \"growth\", \"risk\", \"bernanke\", \"donald\", \"economic\", \"action\", \"federal\", \"sustainable\", \"inflation\", \"market\", \"rate\", \"swiss\", \"repurchase\", \"arrangement\", \"dollar\", \"desk\", \"swap\", \"direct\", \"european\", \"canada\", \"funding\", \"website\", \"overnight\", \"england\", \"line\", \"riksbank\", \"tslf\", \"residential\", \"agreement\", \"authorize\", \"primary\", \"facility\", \"banksbank\", \"intensification\", \"operation\", \"conduct\", \"actionsthe\", \"currency\", \"combine\", \"kroszner\", \"offer\", \"randall\", \"transaction\", \"national\", \"liquidity\", \"mishkin\", \"lending\", \"central\", \"bank\", \"frederic\", \"warsh\", \"kevin\", \"reserve\", \"data\", \"financial\", \"federal\", \"announce\", \"market\", \"supervision\", \"open\", \"tools\", \"report\", \"finance\", \"monetary\", \"policy\", \"action\", \"banking\", \"research\", \"committee\", \"payment\", \"security\", \"billion\", \"reports\", \"board\", \"economic\", \"growth\", \"regulations\", \"stability\", \"rates\", \"resources\", \"structure\", \"rate\", \"governors\", \"inflation\", \"development\", \"price\", \"continue\"], \"Freq\": [484.0, 533.0, 987.0, 804.0, 1582.0, 548.0, 1241.0, 1826.0, 520.0, 968.0, 427.0, 401.0, 267.0, 151.0, 300.0, 300.0, 300.0, 839.0, 396.0, 193.0, 347.0, 304.0, 192.0, 178.0, 189.0, 189.0, 187.0, 187.0, 544.0, 169.0, 139.78495449796335, 102.09668503480813, 71.91204357908872, 78.35995907567369, 76.47806248965726, 56.85757670765536, 62.403864604595, 53.96018339013108, 90.09721758937424, 55.693752005606825, 41.76139173195212, 119.7548071841173, 39.84466565491341, 38.900507670329056, 45.36697944278303, 61.09211412923033, 45.29336157825385, 33.161449009538174, 37.731821113595764, 26.664916937660625, 27.554685633847377, 46.83540545265239, 28.43009943791745, 52.27504405222081, 21.958497679295693, 21.947801993300224, 244.51143368713173, 31.065273965933276, 20.066843867474383, 35.59238818124863, 190.56513004435698, 142.66269929813635, 126.10257557179428, 50.98643174659675, 179.53984736649565, 98.91055748428175, 53.289511632007084, 236.58477306169118, 242.35631900613797, 179.6372579570328, 105.27256838543914, 167.91827181527805, 186.7438621003168, 273.8013598151137, 182.5632506517092, 160.98844518150517, 393.8401655570697, 120.98486036247179, 531.389534384253, 830.4722862010792, 273.73284433498196, 174.0068595797358, 201.65550558283147, 196.31271765217392, 908.798161033529, 605.444043147313, 202.8649836129742, 179.81127528951282, 344.4098112135196, 207.71945679573173, 533.0508770530453, 338.4133502721395, 316.255279964166, 547.4053748587246, 575.7557051804436, 457.3074238508821, 346.55738666810845, 296.72603380548173, 300.43889776818094, 388.4981977933014, 243.11416898423388, 296.33323695529754, 249.7787662639794, 235.12894528841372, 236.10730975263334, 205.51934334291113, 44.88358853593254, 47.770992244950655, 36.04925385810943, 47.625972660605086, 47.57436051127205, 47.47232764552748, 33.81592870233904, 33.81095231806429, 20.129200316529296, 17.189658959246998, 19.960327157856238, 47.63766954198645, 16.113127964606253, 15.14213731456737, 19.8025528990222, 31.036009910476224, 14.021419108077735, 47.44769261804806, 19.584051802497534, 11.169732338266062, 11.16919551392691, 11.15732195618076, 11.133711878125249, 16.70131416157501, 29.717893240186456, 10.175372841362046, 10.169631992047355, 19.388428030130843, 10.159080109414688, 9.180106745547711, 46.55069312354823, 22.94789051013589, 36.90716483944152, 122.72994919915001, 122.71462818720897, 122.33625989645205, 31.06370732827857, 111.62082025162739, 283.1124585556852, 145.8800616643528, 55.54565379793952, 134.0939270076293, 93.83627838166183, 190.3063392856122, 87.81674248725686, 171.88665947473646, 150.8033343057604, 56.72534906658394, 224.2835236772042, 140.76689364194445, 518.26929806522, 115.28381055123288, 252.92790867414485, 609.204604899081, 133.53277569209493, 371.2744538407099, 132.3452024696464, 317.82519648566966, 230.2404527161907, 178.01147636190012, 171.55459851220584, 126.36570415759951, 129.8469080683315, 147.28642364868918, 202.63168114733122, 305.18528009137054, 260.4740733255091, 216.73203155391718, 199.79224733643366, 214.73662150906333, 180.46138862024333, 305.14787906399465, 225.18897645623449, 180.74976068887702, 150.11736793375067, 143.86904067711316, 138.67106799960828, 152.0045614400925, 142.27433262759027, 59.06583227831962, 59.04875397557629, 65.66590803785667, 18.05277243673492, 10.322402170079199, 26.88400843812312, 7.191101587474056, 7.165939364545496, 6.1920126629414645, 50.1775164250732, 5.266427795398763, 5.219837282834326, 5.216815810125913, 6.059915207670104, 5.149418681663572, 4.253485230439636, 4.2505497890760475, 4.247963660911544, 4.237218389174874, 4.226673280818373, 5.062510595295472, 4.192283655759559, 4.177146462253716, 4.155845274202654, 4.154869964082439, 77.49863326583207, 3.2407227260589964, 3.240307051998453, 3.240224695359313, 3.2401481750174344, 8.031515423641132, 45.108023888979204, 44.777853744914474, 72.51158210326838, 24.848638244358458, 50.26806117311295, 85.3926965395436, 84.96640992898641, 80.27526509005851, 44.53181274508454, 29.947253471471114, 119.6187980600814, 66.81781846076022, 84.08371276763418, 79.90042781761588, 73.89237913523499, 67.0780464184381, 78.50789247874144, 81.22021608887121, 78.17966949637062, 72.13203429045791, 69.29516841994192, 80.77759130452716, 79.77780159200482, 208.30734417955105, 315.9079559127692, 160.694779238606, 140.55338017943225, 345.4452713231096, 136.61481506447112, 203.61900768040192, 337.20579609079505, 159.42495313045924, 251.4770325853606, 149.8748686093683, 209.96943863462937, 95.35844301626516, 201.48212395829162, 149.89343408711764, 144.75808736663, 107.44646431457295, 109.62453932580294, 105.95205402924095, 150.99224198666738, 124.54913597671857, 137.87537226792932, 119.01045356041753, 101.51213109283833, 91.42348170678368, 88.3750565452978, 86.25619876767884, 86.15164690621047, 86.07379502391962, 65.46133054045247, 57.36418685855931, 56.455275306027715, 49.33514388513635, 49.32242605756333, 46.669167331467875, 46.665048613589974, 43.9517395420529, 42.157325470924064, 37.70363516764046, 28.793782083195005, 26.055972720148056, 24.317466892492032, 26.029383449850748, 24.241933160993142, 24.226962665996364, 42.34875387482224, 18.056032027324886, 14.485329673396643, 15.295630514585833, 13.581793343894194, 12.65823087894151, 12.622630938949174, 12.612137717890826, 10.903726435758626, 10.018085951025052, 9.13859158485076, 9.130064186367747, 9.125593927656588, 9.122372379399705, 97.54999650748357, 31.449073666259718, 18.049983342477702, 16.26095540695377, 28.795521859558264, 52.45166951295025, 123.3741892364694, 52.0968611427236, 114.05927692938388, 116.42933872523727, 115.06585291704596, 112.48355087638978, 112.23978264129074, 112.57575278788508, 112.36572000126363, 112.30406083036782, 112.1806177734247, 141.4742613016636, 140.85780677937208, 140.75551541212135, 141.22160087626344, 203.67937277312012, 360.5198253042028, 401.5857560129376, 141.7813598906884, 142.53714618022266, 149.7257649265538, 331.4413902413721, 120.06049518991007, 187.92117687954294, 145.7595362643774, 92.89865763212131, 91.3186226706433, 189.38475906831877, 170.0950167015625, 170.38103842998578, 102.62426940457296, 124.90118907977703, 113.8244382991314, 108.86785909050153, 21.122218915967906, 20.980382981976017, 17.8051338716661, 19.901692819982237, 20.923166315340396, 17.766533398435197, 16.704025257823226, 14.514254778219193, 14.509021989574785, 13.355494661973541, 12.311937640487725, 13.302693338153736, 11.226947468906655, 11.193205121648724, 10.118245691589317, 10.106725382113334, 10.099236670050301, 11.036717606520781, 9.018489837058617, 8.978731315570544, 38.57842035899299, 7.913811709764229, 7.903407440912557, 20.51203874789936, 6.817931343200047, 6.81709062287217, 6.7982626882910155, 9.634212174310862, 26.80002506946059, 6.708555388322491, 26.695605447589582, 17.841976836365532, 21.114650730004872, 31.56628829676055, 16.670970927471025, 26.228757593515812, 92.38344049806754, 231.20180046190598, 16.115769668082333, 29.957420935805807, 29.759667165772616, 224.71529515018867, 136.42081859677668, 173.21706172573946, 269.2351025287376, 30.791835577388166, 189.84044027586506, 69.23184419213793, 81.4152430174455, 49.56864346332983, 50.626395658697405, 48.14858111126807, 121.81657665692681, 136.2092454508746, 106.61816059246877, 48.06330334588322, 47.704385589377694, 121.44903484692965, 51.12707214597768, 59.36052277251295, 41.720205280694984, 46.10278214288312, 69.40330345468479, 90.49751122692632, 74.82363233763432, 45.364228919483004, 67.3819824475004, 45.245799184383095, 44.95346693198198, 45.78524531076713, 68.00328214952064, 49.00777571487101, 56.06916342964175, 46.27551298783001, 47.83222503423782, 46.3136286702709], \"Total\": [484.0, 533.0, 987.0, 804.0, 1582.0, 548.0, 1241.0, 1826.0, 520.0, 968.0, 427.0, 401.0, 267.0, 151.0, 300.0, 300.0, 300.0, 839.0, 396.0, 193.0, 347.0, 304.0, 192.0, 178.0, 189.0, 189.0, 187.0, 187.0, 544.0, 169.0, 141.74027003953668, 103.6867276539308, 73.26015766129383, 79.93103330662417, 78.03753290295631, 58.0378153252059, 63.75505059557098, 55.196754519805886, 92.37561232552947, 57.11270971245904, 42.8291420966178, 122.86604102387264, 40.92506994945216, 39.9745301498293, 46.6458480119814, 62.86460980198839, 46.65890179188753, 34.28145028629529, 39.05816500435625, 27.610991034730873, 28.566518338571303, 48.62118543702135, 29.526068390281687, 54.35644136881687, 22.85505554293072, 22.8558568115997, 255.01604130358302, 32.41421007724143, 20.953864758580906, 37.19427644192542, 200.23734855172202, 149.8013352576681, 132.9232012140611, 53.46729704689639, 192.6752512424129, 105.47985763311401, 56.40629646323892, 268.3756104616072, 276.45716782540086, 203.02157392673894, 115.99606085061441, 195.67886845874577, 225.2157378446738, 347.2992388549927, 220.9047956816234, 193.38514771020579, 533.3266242848448, 143.6671770657399, 804.1004393842923, 1363.6864099727177, 386.52182672640265, 226.7386202128964, 275.3125305894452, 267.2879874945767, 2004.0422612766204, 1253.3083517389616, 296.0700323736436, 251.93526958203574, 638.3047618101981, 309.98294669825077, 1255.9937997075901, 702.3820938082406, 631.4500058567465, 1582.6502090857387, 1826.0585749965394, 1303.4401051427915, 811.0489726486894, 605.6345324849426, 675.1850373832094, 1241.2476876435205, 484.28542793941676, 987.166667138109, 571.3086795793492, 485.1402961213961, 768.8366658466288, 418.94904826718647, 46.27404745753757, 49.301876368886525, 37.21620785339365, 49.30618410016921, 49.303230851287296, 49.22645103992392, 35.201013783801535, 35.202257181460894, 21.115373875321687, 18.103317288013145, 21.119495976181582, 50.40470268443044, 17.08745325772383, 16.08416530535822, 21.089440337120365, 33.132668197709485, 15.082269818903084, 51.10081293324957, 21.112028862254903, 12.059608114509219, 12.06284351401162, 12.058731888895878, 12.06005409251796, 18.092674928831308, 32.27189363666962, 11.056639830962853, 11.053892206410035, 21.079643899295256, 11.058302537165206, 10.050787008862812, 51.419082364304415, 25.22969585584435, 41.045555113037835, 142.0138455646735, 143.91261364320786, 144.52044224877739, 35.036498631161656, 141.75521302071408, 401.0841268218316, 199.3301363739153, 68.38895073644741, 185.58418506122462, 127.36079624184909, 292.24263844686783, 124.5313661764256, 280.64969156575063, 253.93399092480342, 76.30741175105456, 427.0807483598443, 243.92126437356796, 1303.4401051427915, 190.5671296029279, 548.1415122932839, 1826.0585749965394, 235.78583227519673, 987.166667138109, 235.88219417121465, 839.1516799340556, 544.4323189490007, 382.77070041467346, 387.98602474913736, 256.0959701525947, 270.6200481318416, 338.3728672314951, 605.6345324849426, 1255.9937997075901, 968.5284439699517, 702.3820938082406, 638.3047618101981, 811.0489726486894, 546.3613381038072, 2004.0422612766204, 1253.3083517389616, 768.8366658466288, 485.1402961213961, 442.6930157396894, 343.4110624940257, 1582.6502090857387, 1363.6864099727177, 60.99471648704333, 60.99626738996481, 68.13843039668997, 19.284465874284212, 11.178076004632269, 29.52060174214354, 8.114497493379226, 8.113915773801391, 7.097896840119611, 57.848467408049075, 6.087015842786839, 6.083244954373953, 6.082170812027925, 7.091771774991754, 6.077651995730554, 5.0673942241899095, 5.067277751206609, 5.0673460025750385, 5.067156478788931, 5.0652659148402, 6.076520108789436, 5.064863807983925, 5.060823501440612, 5.064327530697886, 5.064236074288444, 94.63757856940771, 4.049671684228328, 4.049588610513185, 4.049573726272492, 4.049590065213291, 10.074153603704735, 57.829889735814405, 57.78280701965005, 95.84130438811913, 32.68046820918149, 69.6644642040875, 127.23736975121719, 127.19799980865355, 122.95585513044486, 65.55458858757487, 43.21586135621416, 206.50197624578627, 109.58060918673446, 143.69551116565998, 144.29585099595005, 132.01486251547686, 118.37106457326901, 143.71490329375868, 150.05816386975647, 143.69685574026042, 134.16776355496557, 127.953694282303, 156.12565392701723, 156.24985283851763, 548.1415122932839, 968.5284439699517, 427.0807483598443, 382.77070041467346, 1582.6502090857387, 387.98602474913736, 768.8366658466288, 2004.0422612766204, 544.4323189490007, 1241.2476876435205, 520.0400486120877, 1363.6864099727177, 249.27638045635516, 1826.0585749965394, 839.1516799340556, 811.0489726486894, 356.9215462943022, 396.61570408635384, 386.9988454255242, 1303.4401051427915, 675.1850373832094, 1255.9937997075901, 1253.3083517389616, 631.4500058567465, 330.5943608920544, 271.3305765096655, 300.2917314109316, 304.3691077760147, 300.2890194789879, 66.67712449314072, 58.57854531231827, 57.69397200006819, 50.48116024641993, 50.479623116224815, 47.78888449230504, 47.79060148316654, 45.085536480148726, 43.28380998919953, 38.79477388153653, 29.784278972905057, 27.088812010707056, 25.288924491467224, 27.089181211447617, 25.290725330498727, 25.29231865953563, 44.34586708529283, 18.9883810440323, 15.388930586492464, 16.293341748456868, 14.49311167787386, 13.590844797408144, 13.608644925311138, 13.610019796371445, 11.792954673154211, 10.891960853690124, 9.989142915850183, 9.990018448073975, 9.990337335571756, 9.99047581840686, 107.76194018497871, 35.335521661030974, 20.06274144345618, 18.136506983633943, 33.84183660473248, 67.66094834109569, 178.15678311051806, 67.69158292963102, 169.21345186752404, 193.35247766106593, 192.51422552475248, 187.7563293954241, 187.79594284538993, 189.8014591728858, 189.84142857481913, 196.2096794538934, 196.26940251558239, 300.18756934167106, 300.2890194789879, 300.2917314109316, 304.3691077760147, 520.0400486120877, 1241.2476876435205, 1582.6502090857387, 330.5943608920544, 361.9026150250546, 396.61570408635384, 2004.0422612766204, 314.89106739623685, 839.1516799340556, 546.3613381038072, 207.56277416818492, 209.40686054222428, 1255.9937997075901, 968.5284439699517, 1826.0585749965394, 338.3728672314951, 1363.6864099727177, 1253.3083517389616, 1303.4401051427915, 21.98377204953489, 21.965002223040315, 18.668011826816933, 20.867114069597637, 21.954378563305617, 18.66327295255794, 17.562342041386056, 15.35443875631098, 15.353995792161992, 14.243241860052386, 13.144260121492898, 14.23274443487287, 12.042479106184361, 12.038254159212023, 10.936543650742546, 10.933980777120068, 10.932300613361951, 12.01534359528247, 9.831814497411818, 9.82667524240128, 42.506737585736836, 8.726378042099517, 8.725900279410816, 22.84579743115627, 7.622268252634191, 7.62208132044092, 7.620060879720405, 10.87432443431638, 30.38555039231479, 7.606159341511447, 30.370137634423163, 20.57351576473556, 24.828546318138503, 40.766883345155506, 20.40819612262615, 35.054825652542476, 151.72443440207385, 484.28542793941676, 20.33083265710472, 46.032148733593615, 46.007224019703884, 987.166667138109, 533.3266242848448, 804.1004393842923, 1826.0585749965394, 59.24350525853878, 1253.3083517389616, 267.2879874945767, 473.6571366152753, 180.8886078978143, 192.89489277928658, 178.78963698530106, 1241.2476876435205, 1582.6502090857387, 968.5284439699517, 179.73079949395557, 179.67628015000417, 2004.0422612766204, 226.7386202128964, 347.2992388549927, 136.06869066400537, 178.49687774001026, 544.4323189490007, 1255.9937997075901, 839.1516799340556, 178.39354465855016, 675.1850373832094, 178.3817045029101, 178.34171382580368, 192.70995309737944, 1303.4401051427915, 282.80725262524714, 1363.6864099727177, 275.3125305894452, 768.8366658466288, 702.3820938082406], \"Category\": [\"Default\", \"Default\", \"Default\", \"Default\", \"Default\", \"Default\", \"Default\", \"Default\", \"Default\", \"Default\", \"Default\", \"Default\", \"Default\", \"Default\", \"Default\", \"Default\", \"Default\", \"Default\", \"Default\", \"Default\", \"Default\", \"Default\", \"Default\", \"Default\", \"Default\", \"Default\", \"Default\", \"Default\", \"Default\", \"Default\", \"Topic1\", \"Topic1\", \"Topic1\", \"Topic1\", \"Topic1\", \"Topic1\", \"Topic1\", \"Topic1\", \"Topic1\", \"Topic1\", \"Topic1\", \"Topic1\", \"Topic1\", \"Topic1\", \"Topic1\", \"Topic1\", \"Topic1\", \"Topic1\", \"Topic1\", \"Topic1\", \"Topic1\", \"Topic1\", \"Topic1\", \"Topic1\", \"Topic1\", \"Topic1\", \"Topic1\", \"Topic1\", \"Topic1\", \"Topic1\", \"Topic1\", \"Topic1\", \"Topic1\", \"Topic1\", \"Topic1\", \"Topic1\", \"Topic1\", \"Topic1\", \"Topic1\", \"Topic1\", \"Topic1\", \"Topic1\", \"Topic1\", \"Topic1\", \"Topic1\", \"Topic1\", \"Topic1\", \"Topic1\", \"Topic1\", \"Topic1\", \"Topic1\", \"Topic1\", \"Topic1\", \"Topic1\", \"Topic1\", \"Topic1\", \"Topic1\", \"Topic1\", \"Topic1\", \"Topic1\", \"Topic1\", \"Topic1\", \"Topic1\", \"Topic1\", \"Topic1\", \"Topic1\", \"Topic1\", \"Topic1\", \"Topic1\", \"Topic1\", \"Topic1\", \"Topic1\", \"Topic1\", \"Topic1\", \"Topic1\", \"Topic1\", \"Topic2\", \"Topic2\", \"Topic2\", \"Topic2\", \"Topic2\", \"Topic2\", \"Topic2\", \"Topic2\", \"Topic2\", \"Topic2\", \"Topic2\", \"Topic2\", \"Topic2\", \"Topic2\", \"Topic2\", \"Topic2\", \"Topic2\", \"Topic2\", \"Topic2\", \"Topic2\", \"Topic2\", \"Topic2\", \"Topic2\", \"Topic2\", \"Topic2\", \"Topic2\", \"Topic2\", \"Topic2\", \"Topic2\", \"Topic2\", \"Topic2\", \"Topic2\", \"Topic2\", \"Topic2\", \"Topic2\", \"Topic2\", \"Topic2\", \"Topic2\", \"Topic2\", \"Topic2\", \"Topic2\", \"Topic2\", \"Topic2\", \"Topic2\", \"Topic2\", \"Topic2\", \"Topic2\", \"Topic2\", \"Topic2\", \"Topic2\", \"Topic2\", \"Topic2\", \"Topic2\", \"Topic2\", \"Topic2\", \"Topic2\", \"Topic2\", \"Topic2\", \"Topic2\", \"Topic2\", \"Topic2\", \"Topic2\", \"Topic2\", \"Topic2\", \"Topic2\", \"Topic2\", \"Topic2\", \"Topic2\", \"Topic2\", \"Topic2\", \"Topic2\", \"Topic2\", \"Topic2\", \"Topic2\", \"Topic2\", \"Topic2\", \"Topic2\", \"Topic2\", \"Topic2\", \"Topic3\", \"Topic3\", \"Topic3\", \"Topic3\", \"Topic3\", \"Topic3\", \"Topic3\", \"Topic3\", \"Topic3\", \"Topic3\", \"Topic3\", \"Topic3\", \"Topic3\", \"Topic3\", \"Topic3\", \"Topic3\", \"Topic3\", \"Topic3\", \"Topic3\", \"Topic3\", \"Topic3\", \"Topic3\", \"Topic3\", \"Topic3\", \"Topic3\", \"Topic3\", \"Topic3\", \"Topic3\", \"Topic3\", \"Topic3\", \"Topic3\", \"Topic3\", \"Topic3\", \"Topic3\", \"Topic3\", \"Topic3\", \"Topic3\", \"Topic3\", \"Topic3\", \"Topic3\", \"Topic3\", \"Topic3\", \"Topic3\", \"Topic3\", \"Topic3\", \"Topic3\", \"Topic3\", \"Topic3\", \"Topic3\", \"Topic3\", \"Topic3\", \"Topic3\", \"Topic3\", \"Topic3\", \"Topic3\", \"Topic3\", \"Topic3\", \"Topic3\", \"Topic3\", \"Topic3\", \"Topic3\", \"Topic3\", \"Topic3\", \"Topic3\", \"Topic3\", \"Topic3\", \"Topic3\", \"Topic3\", \"Topic3\", \"Topic3\", \"Topic3\", \"Topic3\", \"Topic3\", \"Topic3\", \"Topic3\", \"Topic3\", \"Topic3\", \"Topic3\", \"Topic3\", \"Topic3\", \"Topic3\", \"Topic3\", \"Topic3\", \"Topic4\", \"Topic4\", \"Topic4\", \"Topic4\", \"Topic4\", \"Topic4\", \"Topic4\", \"Topic4\", \"Topic4\", \"Topic4\", \"Topic4\", \"Topic4\", \"Topic4\", \"Topic4\", \"Topic4\", \"Topic4\", \"Topic4\", \"Topic4\", \"Topic4\", \"Topic4\", \"Topic4\", \"Topic4\", \"Topic4\", \"Topic4\", \"Topic4\", \"Topic4\", \"Topic4\", \"Topic4\", \"Topic4\", \"Topic4\", \"Topic4\", \"Topic4\", \"Topic4\", \"Topic4\", \"Topic4\", \"Topic4\", \"Topic4\", \"Topic4\", \"Topic4\", \"Topic4\", \"Topic4\", \"Topic4\", \"Topic4\", \"Topic4\", \"Topic4\", \"Topic4\", \"Topic4\", \"Topic4\", \"Topic4\", \"Topic4\", \"Topic4\", \"Topic4\", \"Topic4\", \"Topic4\", \"Topic4\", \"Topic4\", \"Topic4\", \"Topic4\", \"Topic4\", \"Topic4\", \"Topic4\", \"Topic4\", \"Topic4\", \"Topic4\", \"Topic4\", \"Topic4\", \"Topic4\", \"Topic4\", \"Topic4\", \"Topic4\", \"Topic5\", \"Topic5\", \"Topic5\", \"Topic5\", \"Topic5\", \"Topic5\", \"Topic5\", \"Topic5\", \"Topic5\", \"Topic5\", \"Topic5\", \"Topic5\", \"Topic5\", \"Topic5\", \"Topic5\", \"Topic5\", \"Topic5\", \"Topic5\", \"Topic5\", \"Topic5\", \"Topic5\", \"Topic5\", \"Topic5\", \"Topic5\", \"Topic5\", \"Topic5\", \"Topic5\", \"Topic5\", \"Topic5\", \"Topic5\", \"Topic5\", \"Topic5\", \"Topic5\", \"Topic5\", \"Topic5\", \"Topic5\", \"Topic5\", \"Topic5\", \"Topic5\", \"Topic5\", \"Topic5\", \"Topic5\", \"Topic5\", \"Topic5\", \"Topic5\", \"Topic5\", \"Topic5\", \"Topic5\", \"Topic5\", \"Topic5\", \"Topic5\", \"Topic5\", \"Topic5\", \"Topic5\", \"Topic5\", \"Topic5\", \"Topic5\", \"Topic5\", \"Topic5\", \"Topic5\", \"Topic5\", \"Topic5\", \"Topic5\", \"Topic5\", \"Topic5\", \"Topic5\", \"Topic5\", \"Topic5\", \"Topic5\", \"Topic5\", \"Topic5\", \"Topic5\", \"Topic5\", \"Topic5\", \"Topic5\", \"Topic5\"], \"logprob\": [30.0, 29.0, 28.0, 27.0, 26.0, 25.0, 24.0, 23.0, 22.0, 21.0, 20.0, 19.0, 18.0, 17.0, 16.0, 15.0, 14.0, 13.0, 12.0, 11.0, 10.0, 9.0, 8.0, 7.0, 6.0, 5.0, 4.0, 3.0, 2.0, 1.0, -5.4902, -5.8044, -6.1549, -6.069, -6.0933, -6.3898, -6.2967, -6.4421, -5.9294, -6.4104, -6.6983, -5.6449, -6.7453, -6.7693, -6.6155, -6.3179, -6.6172, -6.9289, -6.7998, -7.147, -7.1141, -6.5837, -7.0829, -6.4738, -7.3412, -7.3416, -4.9311, -6.9942, -7.4312, -6.8582, -5.1803, -5.4698, -5.5932, -6.4988, -5.2399, -5.8361, -6.4546, -4.964, -4.9399, -5.2394, -5.7738, -5.3068, -5.2006, -4.8179, -5.2232, -5.349, -4.4544, -5.6347, -4.1548, -3.7083, -4.8182, -5.2712, -5.1238, -5.1506, -3.6182, -4.0244, -5.1178, -5.2384, -4.5885, -5.0941, -4.1517, -4.606, -4.6738, -4.1251, -4.0746, -4.305, -4.5823, -4.7375, -4.7251, -4.468, -4.9368, -4.7388, -4.9097, -4.9702, -4.966, -5.1048, -6.0719, -6.0095, -6.2911, -6.0126, -6.0137, -6.0158, -6.355, -6.3552, -6.8738, -7.0316, -6.8822, -6.0123, -7.0963, -7.1585, -6.8901, -6.4408, -7.2354, -6.0163, -6.9012, -7.4627, -7.4628, -7.4639, -7.466, -7.0605, -6.4842, -7.556, -7.5566, -6.9113, -7.5576, -7.6589, -6.0354, -6.7427, -6.2676, -5.066, -5.0661, -5.0692, -6.4399, -5.1608, -4.2301, -4.8932, -5.8588, -4.9774, -5.3344, -4.6273, -5.4007, -4.7291, -4.86, -5.8377, -4.463, -4.9289, -3.6255, -5.1286, -4.3429, -3.4638, -4.9816, -3.959, -4.9905, -4.1145, -4.4368, -4.6941, -4.7311, -5.0368, -5.0096, -4.8836, -4.5646, -4.155, -4.3135, -4.4973, -4.5787, -4.5065, -4.6804, -4.1552, -4.459, -4.6788, -4.8645, -4.9071, -4.9439, -4.852, -4.9182, -5.5274, -5.5277, -5.4215, -6.7127, -7.2717, -6.3145, -7.6332, -7.6367, -7.7828, -5.6905, -7.9447, -7.9536, -7.9542, -7.8044, -7.9672, -8.1583, -8.159, -8.1596, -8.1621, -8.1646, -7.9842, -8.1728, -8.1764, -8.1815, -8.1818, -5.2558, -8.4303, -8.4304, -8.4304, -8.4304, -7.5227, -5.797, -5.8043, -5.3223, -6.3932, -5.6887, -5.1588, -5.1638, -5.2206, -5.8098, -6.2066, -4.8217, -5.4041, -5.1742, -5.2253, -5.3034, -5.4002, -5.2428, -5.2089, -5.247, -5.3275, -5.3677, -5.2143, -5.2268, -4.267, -3.8506, -4.5265, -4.6605, -3.7612, -4.6889, -4.2898, -3.7854, -4.5345, -4.0787, -4.5962, -4.2591, -5.0484, -4.3003, -4.5961, -4.631, -4.9291, -4.909, -4.9431, -4.5888, -4.7813, -4.6797, -4.8268, -4.9859, -5.0905, -5.1245, -5.1487, -5.1499, -5.1508, -5.3209, -5.4529, -5.4689, -5.6037, -5.604, -5.6593, -5.6594, -5.7193, -5.7609, -5.8726, -6.1422, -6.2421, -6.3112, -6.2431, -6.3143, -6.3149, -5.7564, -6.6089, -6.8292, -6.7748, -6.8936, -6.964, -6.9669, -6.9677, -7.1132, -7.198, -7.2898, -7.2908, -7.2913, -7.2916, -4.922, -6.054, -6.6092, -6.7136, -6.1421, -5.5425, -4.6871, -5.5492, -4.7656, -4.7451, -4.7568, -4.7795, -4.7817, -4.7787, -4.7806, -4.7811, -4.7822, -4.5502, -4.5546, -4.5553, -4.552, -4.1858, -3.6148, -3.5069, -4.5481, -4.5427, -4.4935, -3.6989, -4.7144, -4.2663, -4.5204, -4.9708, -4.988, -4.2586, -4.366, -4.3643, -4.8713, -4.6748, -4.7677, -4.8122, -6.135, -6.1417, -6.3058, -6.1945, -6.1444, -6.308, -6.3696, -6.5101, -6.5105, -6.5934, -6.6747, -6.5973, -6.767, -6.77, -6.8709, -6.8721, -6.8728, -6.7841, -6.986, -6.9904, -5.5326, -7.1167, -7.118, -6.1643, -7.2657, -7.2658, -7.2686, -6.92, -5.8969, -7.2819, -5.9008, -6.3037, -6.1353, -5.7332, -6.3716, -5.9184, -4.6593, -3.742, -6.4055, -5.7855, -5.7921, -3.7704, -4.2695, -4.0307, -3.5897, -5.758, -3.9391, -4.9478, -4.7857, -5.2819, -5.2608, -5.311, -4.3828, -4.2711, -4.516, -5.3128, -5.3203, -4.3858, -5.251, -5.1017, -5.4543, -5.3544, -4.9453, -4.68, -4.8701, -5.3706, -4.9749, -5.3732, -5.3797, -5.3613, -4.9657, -5.2933, -5.1587, -5.3507, -5.3176, -5.3498], \"loglift\": [30.0, 29.0, 28.0, 27.0, 26.0, 25.0, 24.0, 23.0, 22.0, 21.0, 20.0, 19.0, 18.0, 17.0, 16.0, 15.0, 14.0, 13.0, 12.0, 11.0, 10.0, 9.0, 8.0, 7.0, 6.0, 5.0, 4.0, 3.0, 2.0, 1.0, 0.978, 0.9764, 0.9733, 0.972, 0.9717, 0.9713, 0.9705, 0.9692, 0.9669, 0.9667, 0.9666, 0.9662, 0.9651, 0.9646, 0.9641, 0.9633, 0.9622, 0.9587, 0.9573, 0.957, 0.9558, 0.9545, 0.954, 0.9528, 0.9519, 0.9513, 0.9498, 0.9494, 0.9486, 0.9479, 0.9424, 0.943, 0.9392, 0.9444, 0.9213, 0.9276, 0.935, 0.8658, 0.8602, 0.8695, 0.8949, 0.8389, 0.8046, 0.7541, 0.8012, 0.8085, 0.6887, 0.82, 0.5776, 0.4959, 0.6468, 0.7272, 0.6805, 0.6833, 0.2011, 0.2643, 0.6138, 0.6546, 0.3749, 0.5915, 0.1348, 0.2617, 0.3004, -0.0698, -0.1624, -0.0555, 0.1416, 0.2784, 0.1821, -0.1697, 0.3027, -0.2115, 0.1645, 0.2676, -0.1887, 0.2797, 1.5157, 1.5147, 1.5144, 1.5116, 1.5105, 1.5099, 1.5061, 1.5059, 1.4984, 1.4944, 1.4898, 1.4898, 1.4875, 1.4859, 1.4833, 1.4809, 1.4733, 1.4721, 1.4711, 1.4696, 1.4693, 1.4685, 1.4663, 1.4662, 1.4638, 1.4632, 1.4629, 1.4626, 1.4614, 1.4556, 1.4468, 1.4514, 1.44, 1.4003, 1.3869, 1.3796, 1.4259, 1.3072, 1.1979, 1.2341, 1.3382, 1.2213, 1.2408, 1.1173, 1.1969, 1.056, 1.0251, 1.2497, 0.9022, 0.9965, 0.624, 1.0436, 0.7728, 0.4485, 0.9777, 0.5683, 0.9683, 0.5753, 0.6856, 0.7806, 0.7302, 0.8399, 0.8119, 0.7145, 0.4513, 0.1315, 0.233, 0.3704, 0.3847, 0.2173, 0.4385, -0.3359, -0.1704, 0.0985, 0.3732, 0.4223, 0.6394, -0.7967, -0.714, 1.784, 1.7837, 1.7792, 1.7501, 1.7365, 1.7226, 1.6953, 1.6919, 1.6796, 1.6739, 1.6713, 1.6631, 1.6627, 1.6589, 1.6504, 1.6411, 1.6404, 1.6398, 1.6373, 1.6352, 1.6336, 1.6271, 1.6242, 1.6184, 1.6182, 1.6163, 1.5933, 1.5932, 1.5932, 1.5931, 1.5895, 1.5677, 1.5612, 1.5372, 1.5422, 1.4898, 1.4173, 1.4127, 1.3898, 1.4295, 1.4494, 1.2701, 1.3215, 1.2803, 1.2251, 1.2358, 1.2482, 1.2115, 1.2023, 1.2074, 1.1956, 1.2028, 1.1572, 1.1439, 0.8486, 0.6958, 0.8387, 0.8143, 0.2941, 0.7723, 0.4875, 0.0339, 0.588, 0.2196, 0.572, -0.0548, 0.8552, -0.3881, 0.0937, 0.0929, 0.6156, 0.5302, 0.5207, -0.3394, 0.1259, -0.3932, -0.5382, -0.0117, 0.5308, 0.6944, 0.5687, 0.554, 0.5666, 1.9014, 1.8989, 1.8981, 1.8969, 1.8966, 1.8961, 1.896, 1.8944, 1.8935, 1.8913, 1.886, 1.881, 1.8807, 1.8799, 1.8775, 1.8768, 1.8738, 1.8695, 1.8593, 1.8566, 1.8549, 1.8487, 1.8446, 1.8437, 1.8414, 1.8362, 1.8308, 1.8298, 1.8293, 1.8289, 1.8203, 1.8033, 1.8141, 1.8107, 1.7584, 1.6652, 1.5524, 1.658, 1.5254, 1.4126, 1.4052, 1.4075, 1.4051, 1.3975, 1.3954, 1.3619, 1.3605, 1.1675, 1.1628, 1.1621, 1.1519, 0.9825, 0.6835, 0.5484, 1.0732, 0.9881, 0.9457, 0.1204, 0.9556, 0.4235, 0.5985, 1.1159, 1.0899, 0.0279, 0.1804, -0.452, 0.7268, -0.4706, -0.479, -0.5628, 2.1969, 2.191, 2.1896, 2.1895, 2.1888, 2.1877, 2.1868, 2.1806, 2.1803, 2.1726, 2.1715, 2.1693, 2.1668, 2.1641, 2.1591, 2.1582, 2.1576, 2.152, 2.1506, 2.1467, 2.1399, 2.1392, 2.1379, 2.1292, 2.1254, 2.1253, 2.1228, 2.1158, 2.1113, 2.1113, 2.108, 2.0945, 2.0749, 1.9811, 2.0346, 1.9469, 1.7408, 1.4975, 2.0046, 1.8073, 1.8013, 0.7569, 0.8735, 0.7017, 0.3226, 1.5825, 0.3496, 0.886, 0.476, 0.9424, 0.8992, 0.925, -0.0844, -0.2158, 0.0304, 0.918, 0.9108, -0.5665, 0.7474, 0.4704, 1.0547, 0.8832, 0.1771, -0.3934, -0.1803, 0.8676, -0.0677, 0.8651, 0.8588, 0.7997, -0.7163, 0.4841, -0.9544, 0.4536, -0.5403, -0.4821]}, \"token.table\": {\"Topic\": [1, 2, 3, 4, 5, 1, 2, 3, 4, 5, 5, 1, 2, 3, 4, 5, 2, 1, 4, 5, 5, 1, 2, 3, 4, 5, 4, 4, 1, 2, 3, 5, 1, 5, 1, 2, 3, 4, 5, 1, 2, 3, 4, 5, 5, 1, 5, 1, 5, 2, 3, 1, 3, 4, 5, 5, 1, 2, 3, 4, 5, 1, 3, 1, 2, 3, 4, 5, 1, 1, 2, 3, 4, 5, 1, 3, 4, 5, 1, 2, 3, 4, 5, 5, 1, 2, 3, 4, 5, 1, 2, 3, 4, 5, 1, 3, 4, 5, 3, 1, 3, 4, 5, 1, 5, 1, 2, 3, 4, 5, 1, 2, 3, 4, 5, 2, 3, 4, 4, 5, 2, 4, 1, 3, 4, 5, 3, 1, 5, 3, 1, 2, 3, 4, 5, 1, 2, 3, 4, 5, 2, 3, 1, 2, 3, 4, 5, 4, 2, 3, 4, 5, 4, 1, 5, 1, 2, 3, 4, 5, 1, 2, 3, 4, 5, 1, 1, 2, 3, 4, 5, 5, 1, 4, 2, 1, 2, 3, 4, 5, 1, 2, 3, 4, 1, 2, 3, 4, 5, 4, 5, 3, 1, 1, 2, 3, 4, 5, 1, 2, 3, 4, 5, 2, 3, 5, 3, 5, 1, 2, 3, 4, 1, 2, 1, 2, 3, 4, 5, 5, 1, 2, 3, 4, 5, 4, 1, 2, 3, 4, 5, 4, 2, 3, 1, 2, 3, 4, 5, 5, 3, 1, 2, 3, 4, 5, 1, 1, 5, 1, 2, 3, 4, 5, 2, 3, 1, 3, 4, 5, 3, 4, 1, 3, 1, 5, 1, 2, 3, 4, 5, 5, 2, 5, 1, 3, 4, 2, 5, 1, 2, 3, 4, 5, 2, 1, 5, 1, 2, 3, 5, 3, 1, 2, 3, 4, 5, 3, 4, 1, 2, 5, 2, 3, 4, 1, 2, 3, 4, 5, 1, 3, 4, 5, 4, 5, 1, 5, 1, 2, 3, 4, 5, 1, 2, 3, 4, 5, 1, 1, 2, 4, 5, 1, 5, 3, 4, 1, 2, 3, 4, 5, 5, 1, 2, 3, 4, 5, 1, 3, 4, 5, 1, 2, 4, 5, 4, 1, 2, 3, 4, 5, 1, 5, 1, 3, 4, 1, 2, 3, 4, 5, 1, 2, 3, 4, 5, 1, 3, 4, 5, 2, 4, 1, 5, 4, 1, 5, 1, 2, 3, 4, 5, 1, 5, 4, 2, 3, 4, 1, 2, 3, 4, 5, 1, 2, 3, 4, 5, 2, 3, 4, 5, 1, 2, 3, 4, 5, 2, 5, 1, 1, 3, 4, 5, 4, 1, 5, 4, 4, 2, 3, 4, 5, 1, 5, 1, 5, 1, 2, 3, 4, 5, 3, 3, 3, 1, 5, 1, 2, 3, 4, 5, 4, 1, 2, 3, 4, 5, 5, 1, 2, 5, 1, 2, 3, 4, 5, 1, 2, 3, 4, 5, 1, 2, 3, 4, 5, 1, 5, 2, 1, 3, 4, 5, 1, 2, 3, 4, 5, 1, 1, 2, 3, 4, 5, 4, 4, 3, 1, 3, 4, 5, 1, 2, 3, 4, 5, 4, 3, 4, 5, 1, 5, 1, 1, 2, 3, 4, 5, 1, 2, 3, 4, 5, 1, 4, 5, 4, 1, 5, 1, 2, 3, 4, 5, 1, 2, 3, 4, 5, 1, 2, 3, 5, 3, 4, 5, 1, 3, 4, 5, 1, 2, 3, 4, 5, 1, 5, 1, 2, 3, 4, 5, 3, 1, 2, 3, 4, 1, 5, 5, 1, 2, 3, 4, 5, 4, 1, 1, 2, 3, 5, 3, 4, 1, 2, 3, 4, 5, 2, 1, 2, 3, 4, 5, 1, 4, 1, 2, 3, 4, 5, 1, 2, 3, 4, 5, 2, 3, 1, 3, 4, 5, 3, 2, 3, 4, 1, 2, 3, 4, 5, 2, 1, 2, 3, 4, 5, 5, 4, 2, 1, 2, 3, 4, 5, 2, 4, 2, 1, 5, 1, 3, 4, 5, 1, 5, 1, 3, 4, 5, 1, 2, 1, 2, 3, 4, 5, 1, 5, 2, 2, 1, 2, 4, 5, 1, 2, 3, 4, 5, 3, 1, 4, 5, 1, 1, 2, 3, 4, 1, 2, 3, 4, 5, 3, 1, 2, 3, 4, 1, 2, 4, 5, 1, 3, 4, 5, 5, 1, 2, 3, 4, 5, 1, 5, 1, 2, 3, 4, 5, 5, 1, 5, 4, 3, 4, 5, 5, 1, 2, 3, 4, 5, 1, 4, 5, 1, 3, 4, 5, 1, 3, 4, 5, 1, 2, 3, 4, 5, 1, 5, 3, 3, 4, 1, 2, 3, 4, 5, 1, 5, 1, 4, 1, 3, 5, 1, 3, 4, 5, 1, 2, 3, 4, 5, 1, 2, 3, 4, 5, 1, 2, 3, 4, 5, 1, 1, 3, 4, 5, 1, 2, 3, 4, 5, 5, 4, 5, 2, 1, 5, 2, 1, 2, 3, 4, 5, 1, 3, 4, 5, 1, 2, 3, 4, 5, 1, 5, 3, 1, 5, 3, 5, 1, 3, 4, 5, 1, 4, 5, 1, 2, 3, 4, 5, 1, 2, 3, 4, 4, 1, 5, 3, 2, 5, 4, 5, 1, 2, 3, 4, 5, 1, 3, 4, 5, 1, 2, 3, 4, 5, 1, 5, 3, 1, 2, 3, 4, 5, 5, 2, 4, 5, 1, 5, 2, 3], \"Freq\": [0.003330095022268724, 0.2364367465810794, 0.28638817191511023, 0.4695433981398901, 0.003330095022268724, 0.11873683288909978, 0.2684484917492691, 0.3262681668952655, 0.17552401383606056, 0.11047687929681459, 0.9183843238758658, 0.49170657112609706, 0.09547700410215477, 0.164697832076217, 0.1479893563583399, 0.10263777940981637, 0.9046587223096952, 0.8284111688718009, 0.004526836988370497, 0.16749296856970838, 0.9154960832180347, 0.005194421333146756, 0.005194421333146756, 0.3895815999860067, 0.597358453311877, 0.005194421333146756, 0.9706887051668727, 0.9008704809150393, 0.236312823471602, 0.21943333608077328, 0.016879487390828715, 0.5232641091156901, 0.9766734485787185, 0.01627789080964531, 0.8325354966828371, 0.005171027929707063, 0.12927569824267657, 0.005171027929707063, 0.025855139648535315, 0.002341477586710213, 0.5244909794230878, 0.3769778914603443, 0.023414775867102132, 0.0725858051880166, 0.964216230790184, 0.9738903470271146, 0.012814346671409403, 0.9742831222903522, 0.010825368025448357, 0.9473272384425809, 0.04736636192212904, 0.12119847489235712, 0.5605429463771517, 0.3105710919116651, 0.00757490468077232, 0.9153956273655499, 0.02137896523785888, 0.6128636701519546, 0.0035631608729764803, 0.25654758285430657, 0.10689482618929441, 0.9756212231594307, 0.7898383301146367, 0.0053883901781291215, 0.7220442838693023, 0.0053883901781291215, 0.2586427285501978, 0.010776780356258243, 0.9773960081046962, 0.5017702081888759, 0.016519183808687273, 0.002064897976085909, 0.002064897976085909, 0.47699143247584497, 0.7233039655196769, 0.005563876657843668, 0.005563876657843668, 0.2670660795764961, 0.0034218141654979903, 0.6501446914446182, 0.2771669474053372, 0.020530884992987945, 0.044483584151473875, 0.9167606493100366, 0.0850546099471934, 0.44331493669446254, 0.3531055019019847, 0.028351536649064465, 0.09020943479247784, 0.04034131738897654, 0.2924745510700799, 0.27734655704921374, 0.37819985052165506, 0.012606661684055168, 0.2023484228726296, 0.22643752083365692, 0.4480572220751084, 0.12044548980513667, 0.8626535414807183, 0.010193177041859307, 0.3873407275906537, 0.5708179143441212, 0.02548294260464827, 0.6834783192677664, 0.3086676280564106, 0.1230639652865211, 0.4224583882970127, 0.2920473206053262, 0.03489873642453584, 0.1267375164891038, 0.004241136926466612, 0.5683123481465261, 0.3435320910437956, 0.029687958485266286, 0.05513478004406596, 0.9735087165229497, 0.02028143159422812, 0.9008579935119839, 0.9706591481021878, 0.9769443865327421, 0.9547712460904766, 0.02031428183171227, 0.05191855769450241, 0.7787783654175362, 0.13844948718533975, 0.01730618589816747, 0.7897547005498268, 0.38227198030805265, 0.606362451523118, 0.8460509151123912, 0.2307514590852431, 0.0019229288257103592, 0.2884393238565539, 0.3922774804449133, 0.08845472598267652, 0.2702780414739341, 0.10395309287459004, 0.5544164953311469, 0.006930206191639336, 0.06237185572475402, 0.9735670294058778, 0.020282646445955788, 0.006400006027739995, 0.4352004098863197, 0.5120004822191996, 0.01280001205547999, 0.03840003616643997, 0.9552751263148104, 0.4105350151431531, 0.5496994270560863, 0.020874661786939988, 0.020874661786939988, 0.9490320558352681, 0.09195973561762373, 0.9195973561762373, 0.453583248998425, 0.1521923992788995, 0.16816012641635777, 0.16516617757808436, 0.06037796823851422, 0.8753616406605069, 0.028937574897867996, 0.010851590586700498, 0.0036171968622334995, 0.079578330969137, 0.9625541576211949, 0.5389275164177602, 0.3133299514056745, 0.08303243712250374, 0.028199695626510705, 0.0344662946546242, 0.9183618009745144, 0.0849004021725958, 0.87730415578349, 0.9673204788036257, 0.8866052829683689, 0.07880935848607723, 0.014776754716139482, 0.004925584905379827, 0.019702339621519308, 0.030181692401975994, 0.9356324644612558, 0.7649829200726175, 0.2141952176203329, 0.48121955696136864, 0.3089486504751982, 0.06122023949508536, 0.08257613699337095, 0.06549141899474248, 0.9597927599602996, 0.9186278312591177, 0.7893603345296178, 0.9647160876663953, 0.7387592931973489, 0.0018750235867953018, 0.0018750235867953018, 0.0018750235867953018, 0.255003207804161, 0.07525204303207875, 0.7324532188455665, 0.0100336057376105, 0.1505040860641575, 0.030100817212831497, 0.9522920966425374, 0.019839418680052862, 0.019839418680052862, 0.7893973704471062, 0.9565290103496367, 0.1388379130186477, 0.1388379130186477, 0.6941895650932385, 0.023139652169774615, 0.9783183897274891, 0.9325942450369468, 0.7337116097386386, 0.06901247814373333, 0.007264471383550877, 0.02179341415065263, 0.16708284182167016, 0.9679802363454211, 0.004239404349758388, 0.5596013741681072, 0.3433917523304294, 0.029675830448308713, 0.06359106524637581, 0.9009781996130349, 0.002493242522270688, 0.7055876338026048, 0.2094323718707378, 0.03989188035633101, 0.042385122878601696, 0.9551786253438014, 0.9735937764488795, 0.02028320367601832, 0.0018243464097733736, 0.46155964167266356, 0.3794640532328617, 0.1532450984209634, 0.003648692819546747, 0.9584459036019274, 0.7893784782268012, 0.05730471279177766, 0.004775392732648138, 0.3629298476812585, 0.4345607386709806, 0.14326178197944414, 0.9724719754878071, 0.9805173013491898, 0.017509237524092672, 0.42436515221977095, 0.24283559367172633, 0.109873153858027, 0.15047844984903697, 0.0716564046900176, 0.9724673434130292, 0.021610385409178427, 0.005909695647500251, 0.31912356496501354, 0.6737053038150286, 0.005909695647500251, 0.740815724971903, 0.9097448273818592, 0.09926392224476838, 0.794111377958147, 0.9678908542880208, 0.026885857063556135, 0.8830906787407357, 0.02235672604406926, 0.02980896805875901, 0.055891815110173146, 0.01117836302203463, 0.9134331812418092, 0.9116241484406221, 0.039635832540896615, 0.0156306545990569, 0.539257583667463, 0.4376583287735932, 0.912135775520402, 0.9769162024131101, 0.024198839866515928, 0.24501325364847376, 0.27526180348161866, 0.4295294076306577, 0.024198839866515928, 0.8954522657841395, 0.9566483509685991, 0.01839708367247306, 0.019448032792864636, 0.9140575412646379, 0.019448032792864636, 0.05834409837859391, 0.8228393736026162, 0.6856485891953151, 0.0810619021708747, 0.17225654211310873, 0.03377579257119779, 0.02702063405695823, 0.9333937541927441, 0.051855208566263564, 0.07057704661405612, 0.023525682204685372, 0.9175016059827296, 0.9197505343289498, 0.019569160304871273, 0.039138320609742545, 0.3154334739788353, 0.3335051834255394, 0.11007313935719774, 0.0930966850284757, 0.147311813368588, 0.0053260521401329195, 0.39412785836983605, 0.596517839694887, 0.0053260521401329195, 0.8971854644456388, 0.049843636913646606, 0.7215183283279755, 0.2684719361220374, 0.6603652653225659, 0.09575918160044741, 0.013679883085778203, 0.014923508820848948, 0.21514725216723898, 0.2127719930387606, 0.06033832638412614, 0.2350019027592281, 0.3810841666365861, 0.11114954860233763, 0.9778714558285022, 0.005247494686432197, 0.6034618889397027, 0.38306711210955036, 0.005247494686432197, 0.19674550804008403, 0.7869820321603361, 0.9672968971424426, 0.01639486266343123, 0.43759181146009074, 0.2415506799259701, 0.1137738709796236, 0.1522819503881116, 0.054261384621051255, 0.9127135611212732, 0.20695366650408425, 0.49200305621725693, 0.00390478616045442, 0.2850493897131727, 0.01171435848136326, 0.023585276533537942, 0.668249501783575, 0.11006462382317705, 0.19654397111281618, 0.021124700821046297, 0.8661127336628982, 0.10562350410523148, 0.007041566940348766, 0.9736680221932342, 0.2404464502546121, 0.26519829072199863, 0.2828781767701319, 0.03889574930589313, 0.17326288327170578, 0.9666568097332537, 0.020567166164537316, 0.0056130335457374, 0.2974907779240822, 0.6904031261257001, 0.005171901659067093, 0.005171901659067093, 0.387892624430032, 0.5999405924517828, 0.005171901659067093, 0.12989308441659286, 0.3789541361878581, 0.17875195103200853, 0.22403577862678403, 0.08937597551600426, 0.014779574104677796, 0.13301616694210017, 0.7685378534432454, 0.07389787052338899, 0.7469785528299256, 0.2358879640515555, 0.9729079693263053, 0.025602841298060668, 0.9479481140735306, 0.947915780309023, 0.04513884668138205, 0.003330125096598722, 0.23976900695510797, 0.28639075830749006, 0.46954763862041976, 0.003330125096598722, 0.9563706758896349, 0.03085066696418177, 0.9759227334330004, 0.9396067782608478, 0.05527098695652046, 0.9327603051880362, 0.2764866129829102, 0.2454787685362287, 0.2739026259456867, 0.09302353334004455, 0.11111144260060876, 0.6086443290262057, 0.10412951171291712, 0.15399434830783518, 0.0916633025641876, 0.041065159548756044, 0.8188457257636385, 0.029244490205844232, 0.07311122551461058, 0.0877334706175327, 0.4517803373649862, 0.32528184290279005, 0.004517803373649862, 0.16489982313821996, 0.05647254217062327, 0.9122020541918843, 0.9168108440198872, 0.9544778603102186, 0.014772885441895381, 0.13295596897705841, 0.7681900429785598, 0.0738644272094769, 0.9489046980258409, 0.939611414384228, 0.03545703450506521, 0.9834923015951113, 0.9834569672983711, 0.4105865761366803, 0.542809371841713, 0.020877283532373576, 0.020877283532373576, 0.32603575459314454, 0.6520715091862891, 0.0987311390205645, 0.8885802511850805, 0.7088862285491303, 0.0595050483818613, 0.12418444879692793, 0.08796398456449062, 0.018110232116218657, 0.7408007942183725, 0.7903852009186572, 0.7896920057604109, 0.22821394347513382, 0.741695316294185, 0.7144692376681622, 0.14289384753363243, 0.003969273542600901, 0.09923183856502252, 0.039692735426009006, 0.9008992372516743, 0.5417745463521819, 0.047912034711417445, 0.32432761958497963, 0.03316987018482746, 0.051597575843064944, 0.9137537598491787, 0.09811885706674549, 0.09811885706674549, 0.7849508565339639, 0.49039475800925214, 0.33518564267972456, 0.06439527125374019, 0.10567429128818902, 0.00495348240413386, 0.006664082607781031, 0.39318087385908085, 0.5397906912302636, 0.019992247823343093, 0.039984495646686186, 0.03474330618715701, 0.8546853322040624, 0.006948661237431402, 0.10422991856147103, 0.006948661237431402, 0.9877221199095271, 0.007055157999353765, 0.9042979215292385, 0.00526866339362082, 0.3951497545215615, 0.5953589634791526, 0.00526866339362082, 0.4827223876395336, 0.17952485490726458, 0.09494870103984215, 0.09095925981968071, 0.15159876636613454, 0.9801684499364988, 0.9538680040535196, 0.02996443991791161, 0.004994073319651935, 0.004994073319651935, 0.00998814663930387, 0.9748470782762497, 0.9706386656812918, 0.78936784619944, 0.05187628774159812, 0.7781443161239718, 0.13833676731092834, 0.017292095913866042, 0.008133000245812547, 0.2927880088492517, 0.6506400196650037, 0.008133000245812547, 0.03253200098325019, 0.9598058412352415, 0.9146155026187988, 0.03387464824514069, 0.03387464824514069, 0.1469997633291049, 0.8329986588649276, 0.9626197177892566, 0.31258869914723375, 0.09587127628484746, 0.20221588527308162, 0.2908363927632768, 0.09828819921639824, 0.6710046543382115, 0.0935535335375391, 0.1580732118392902, 0.038711806981050666, 0.038711806981050666, 0.8585495272087532, 0.005110413852433055, 0.13287076016325944, 0.9565262640979595, 0.12082866075040201, 0.8458006252528141, 0.0765507559057889, 0.11134655404478384, 0.5845694087351152, 0.02087747888339697, 0.20877478883396972, 0.003331250531769382, 0.23651878775562613, 0.28648754573216684, 0.4697063249794829, 0.003331250531769382, 0.9545976326180982, 0.006675507920406281, 0.026702031681625125, 0.020026523761218842, 0.9672723024639827, 0.016394445804474283, 0.9203067784547628, 0.005267554124024547, 0.40033411342586556, 0.5899660618907493, 0.005267554124024547, 0.3019061446468836, 0.2596815090319348, 0.12456267506409882, 0.14145252931007832, 0.17100977424054245, 0.08754345327742741, 0.9192062594129877, 0.8303149761628544, 0.11988505003420892, 0.004440187038304034, 0.004440187038304034, 0.044401870383040346, 0.8453208232171053, 0.04306356238111967, 0.07177260396853279, 0.7177260396853278, 0.14354520793706557, 0.9703392766158646, 0.01590720125599778, 0.9133867371459001, 0.4987090352153435, 0.12607812688028347, 0.29978576835978515, 0.0476295145992182, 0.025215625376056695, 0.9730525006399173, 0.9483145412348912, 0.7674034526479105, 0.00441036467039029, 0.00441036467039029, 0.2249285981899048, 0.6114220435280336, 0.3832794899727972, 0.427840995675985, 0.2650888013554374, 0.17878081951878336, 0.08260906832936886, 0.04685290442561219, 0.9469922967174907, 0.006405097271633922, 0.4483568090143746, 0.5188128790023477, 0.006405097271633922, 0.02562038908653569, 0.0551374088131955, 0.882198541011128, 0.04441301275563438, 0.465030368853113, 0.36836675285555576, 0.031350361945153685, 0.09143855567336491, 0.3456228020947153, 0.0960414367795187, 0.21798878742719702, 0.2540043262195165, 0.08593181185535882, 0.9658471564688739, 0.028407269307908056, 0.04576338689079373, 0.6864508033619059, 0.1372901606723812, 0.1372901606723812, 0.8946083383093776, 0.9013434994808056, 0.04743913155162135, 0.04743913155162135, 0.03527207143535082, 0.7900944001518584, 0.07759855715777181, 0.007054414287070165, 0.09170738573191213, 0.9121020449505598, 0.30695726476588, 0.2354206140789164, 0.2653359407298284, 0.1313673039887876, 0.06243198605407728, 0.9158743703227064, 0.9703397184878162, 0.9471771666508229, 0.0036952177301838945, 0.48037830492390626, 0.23279871700158536, 0.2771413297637921, 0.0036952177301838945, 0.9483419038293398, 0.04741709519146699, 0.9363595474807059, 0.9758412568092731, 0.01251078534370863, 0.9342144299245488, 0.005190080166247494, 0.005190080166247494, 0.06228096199496992, 0.09878124479092373, 0.8890312031183136, 0.9607238773985223, 0.003921321948565397, 0.003921321948565397, 0.03529189753708858, 0.08562499442600646, 0.8847916090687334, 0.3506106634258701, 0.3974098985877477, 0.11584728704005774, 0.08362486283024036, 0.052169639196847195, 0.7399862018800619, 0.2522680233682029, 0.928242245239066, 0.9044339105626057, 0.938567819690726, 0.00948048302717905, 0.0379219321087162, 0.00948048302717905, 0.1043913706172844, 0.7066492780246943, 0.0080301054320988, 0.1365117923456796, 0.048180632592592795, 0.8219297492541243, 0.7399370882654493, 0.005605584002010979, 0.2522512800904941, 0.9806407026611145, 0.017286542665793412, 0.08643271332896706, 0.8643271332896706, 0.017286542665793412, 0.5004355009408126, 0.2058753643110938, 0.16153297815178128, 0.08868477231862501, 0.04275872951076563, 0.8226861300239655, 0.16694263608106136, 0.010433914755066335, 0.7616757771198425, 0.062603488530398, 0.673942156409232, 0.01036834086783434, 0.05184170433917169, 0.2643926921297757, 0.7339063946586681, 0.005602338890524184, 0.005602338890524184, 0.25770758896411244, 0.9560663726212569, 0.003938031282689234, 0.5946427236860744, 0.3150425026151387, 0.03150425026151387, 0.05907046924033851, 0.7290890032375649, 0.2671471156901001, 0.2998480498314762, 0.37582306245769487, 0.08104001346796655, 0.014182002356894145, 0.2279250378786559, 0.9147205472723233, 0.7401521336109385, 0.252324591003729, 0.9795133776533034, 0.9686163830860147, 0.014676005804333555, 0.014676005804333555, 0.9143656642673429, 0.20316225226556991, 0.32945230097119443, 0.11896888646182022, 0.2672224218988577, 0.08053278468184753, 0.07423771311343878, 0.9094119856396251, 0.009279714139179848, 0.005324928669110214, 0.3940447215141558, 0.596392010940344, 0.005324928669110214, 0.12670703863253616, 0.536641575384859, 0.3055875637608225, 0.02981342085471439, 0.7889450057631793, 0.03455233601882537, 0.002879361334902114, 0.002879361334902114, 0.16988231875922472, 0.9827988677403622, 0.013649984274171698, 0.862715388616917, 0.8214205661917308, 0.9181083309358449, 0.4443226425198925, 0.18365335890822224, 0.18513443438328853, 0.08738345302891219, 0.09923205682944265, 0.8422243860518833, 0.1461711744387566, 0.9821182909902679, 0.9489644795223723, 0.9052031528486498, 0.05172589444849427, 0.04310491204041189, 0.7524261080938003, 0.005189145573060692, 0.005189145573060692, 0.2387006963607918, 0.004011611521995306, 0.46133532502946023, 0.3811030945895541, 0.15244123783582164, 0.004011611521995306, 0.0040996835703036106, 0.578055383412809, 0.32797468562428883, 0.028697784992125275, 0.06149525355455416, 0.7332914652738625, 0.0037412829860911353, 0.0037412829860911353, 0.0037412829860911353, 0.2581485260402883, 0.9625879035242513, 0.010190075347282999, 0.387222863196754, 0.5706442194478479, 0.030570226041849, 0.008865959095791135, 0.4344319956937656, 0.19505110010740498, 0.3043979289554956, 0.0591063939719409, 0.9644610592019963, 0.9659761348126037, 0.9552500795896989, 0.9118911297508692, 0.9644461886547026, 0.021432137525660058, 0.9390544135939278, 0.48439596108338157, 0.309188911329818, 0.10100171103440722, 0.012367556453192721, 0.09275667339894542, 0.023577978748427413, 0.6680427312054434, 0.10217124124318547, 0.19648315623689513, 0.10191867363215444, 0.40476273242484195, 0.17180576412277462, 0.20092538516053304, 0.12230240835858533, 0.7186743350550757, 0.27641320579041373, 0.8220749062344885, 0.09721235897989489, 0.874911230819054, 0.7408187139641011, 0.9145799872746738, 0.010566627074747, 0.813630284755519, 0.010566627074747, 0.158499406121205, 0.05909844738510196, 0.8569274870839785, 0.05909844738510196, 0.08232366735205465, 0.07748109868428674, 0.5811082401321505, 0.2566561393916998, 0.004842568667767921, 0.024363173972091243, 0.901437436967376, 0.024363173972091243, 0.024363173972091243, 0.9206214557808953, 0.9837324632371416, 0.009644435914089623, 0.7898525940187384, 0.929601477302586, 0.0619734318201724, 0.9471006603438175, 0.022550015722471846, 0.006570969092802284, 0.23655488734088223, 0.2825516709904982, 0.46325332104256106, 0.009856453639203427, 0.008448010530318604, 0.5660167055313464, 0.3548164422733813, 0.07603209477286743, 0.29842282292578387, 0.0027631742863498507, 0.2127644200489385, 0.3951339229480286, 0.09118475144954508, 0.32585921823486835, 0.6517184364697367, 0.7408159910889873, 0.03140683882349703, 0.7380607123521801, 0.007851709705874257, 0.21984787176447917, 0.007851709705874257, 0.9129460227569708, 0.8441712335061173, 0.1453081631444956, 0.006919436340214077, 0.9538540905718066, 0.03740604276752183, 0.9658812728753225, 0.028408272731627132], \"Term\": [\"accessibility\", \"accessibility\", \"accessibility\", \"accessibility\", \"accessibility\", \"action\", \"action\", \"action\", \"action\", \"action\", \"actionsthe\", \"activity\", \"activity\", \"activity\", \"activity\", \"activity\", \"advanced\", \"agency\", \"agency\", \"agency\", \"agreement\", \"alan\", \"alan\", \"alan\", \"alan\", \"alan\", \"alfred\", \"analyst\", \"announce\", \"announce\", \"announce\", \"announce\", \"anticipate\", \"anticipate\", \"appropriate\", \"appropriate\", \"appropriate\", \"appropriate\", \"appropriate\", \"approve\", \"approve\", \"approve\", \"approve\", \"approve\", \"arrangement\", \"assessment\", \"assessment\", \"asset\", \"asset\", \"associated\", \"associated\", \"attainment\", \"attainment\", \"attainment\", \"attainment\", \"authorize\", \"available\", \"available\", \"available\", \"available\", \"available\", \"average\", \"backdrop\", \"background\", \"background\", \"background\", \"background\", \"background\", \"balanced\", \"bank\", \"bank\", \"bank\", \"bank\", \"bank\", \"banking\", \"banking\", \"banking\", \"banking\", \"banks\", \"banks\", \"banks\", \"banks\", \"banks\", \"banksbank\", \"basis\", \"basis\", \"basis\", \"basis\", \"basis\", \"believe\", \"believe\", \"believe\", \"believe\", \"believe\", \"bernanke\", \"bernanke\", \"bernanke\", \"bernanke\", \"bias\", \"bies\", \"bies\", \"bies\", \"bies\", \"billion\", \"billion\", \"board\", \"board\", \"board\", \"board\", \"board\", \"boards\", \"boards\", \"boards\", \"boards\", \"boards\", \"borrow\", \"borrow\", \"briskly\", \"broaddus\", \"canada\", \"capital\", \"capital\", \"cathy\", \"cathy\", \"cathy\", \"cathy\", \"caution\", \"central\", \"central\", \"century\", \"chairman\", \"chairman\", \"chairman\", \"chairman\", \"chairman\", \"change\", \"change\", \"change\", \"change\", \"change\", \"charge\", \"charge\", \"chicago\", \"chicago\", \"chicago\", \"chicago\", \"chicago\", \"choice\", \"city\", \"city\", \"city\", \"city\", \"climate\", \"combine\", \"combine\", \"committee\", \"committee\", \"committee\", \"committee\", \"committee\", \"committees\", \"committees\", \"committees\", \"committees\", \"committees\", \"compensation\", \"condition\", \"condition\", \"condition\", \"condition\", \"condition\", \"conduct\", \"confirm\", \"confirm\", \"consequence\", \"consistent\", \"consistent\", \"consistent\", \"consistent\", \"consistent\", \"consumption\", \"consumption\", \"contained\", \"contained\", \"continue\", \"continue\", \"continue\", \"continue\", \"continue\", \"contrast\", \"currency\", \"cushion\", \"daniel\", \"data\", \"data\", \"data\", \"data\", \"data\", \"demand\", \"demand\", \"demand\", \"demand\", \"demand\", \"depository\", \"depository\", \"depository\", \"depress\", \"desk\", \"despite\", \"despite\", \"despite\", \"despite\", \"determine\", \"develop\", \"development\", \"development\", \"development\", \"development\", \"development\", \"direct\", \"directors\", \"directors\", \"directors\", \"directors\", \"directors\", \"disappointing\", \"discount\", \"discount\", \"discount\", \"discount\", \"discount\", \"dissenter\", \"district\", \"district\", \"document\", \"document\", \"document\", \"document\", \"document\", \"dollar\", \"domestically\", \"donald\", \"donald\", \"donald\", \"donald\", \"donald\", \"dual\", \"dudley\", \"dudley\", \"economic\", \"economic\", \"economic\", \"economic\", \"economic\", \"economys\", \"economys\", \"edward\", \"edward\", \"edward\", \"edward\", \"elhf\", \"emergence\", \"emphasize\", \"emphasize\", \"employ\", \"employ\", \"employment\", \"employment\", \"employment\", \"employment\", \"employment\", \"england\", \"enhance\", \"enhance\", \"equal\", \"equal\", \"equal\", \"erosion\", \"european\", \"event\", \"event\", \"event\", \"event\", \"event\", \"eventually\", \"exceptionally\", \"exceptionally\", \"excess\", \"excess\", \"excess\", \"excess\", \"exemplary\", \"expectation\", \"expectation\", \"expectation\", \"expectation\", \"expectation\", \"expedite\", \"expedite\", \"facility\", \"facility\", \"facility\", \"favorable\", \"favorable\", \"favorable\", \"federal\", \"federal\", \"federal\", \"federal\", \"federal\", \"ferguson\", \"ferguson\", \"ferguson\", \"ferguson\", \"final\", \"final\", \"finance\", \"finance\", \"financial\", \"financial\", \"financial\", \"financial\", \"financial\", \"fomc\", \"fomc\", \"fomc\", \"fomc\", \"fomc\", \"food\", \"foreseeable\", \"foreseeable\", \"foreseeable\", \"foreseeable\", \"frederic\", \"frederic\", \"fulfill\", \"fulfill\", \"fund\", \"fund\", \"fund\", \"fund\", \"fund\", \"funding\", \"future\", \"future\", \"future\", \"future\", \"future\", \"geithner\", \"geithner\", \"geithner\", \"geithner\", \"generate\", \"generate\", \"generate\", \"generate\", \"geopolitical\", \"governors\", \"governors\", \"governors\", \"governors\", \"governors\", \"gradual\", \"gradual\", \"gramlich\", \"gramlich\", \"gramlich\", \"greenspan\", \"greenspan\", \"greenspan\", \"greenspan\", \"greenspan\", \"growth\", \"growth\", \"growth\", \"growth\", \"growth\", \"guynn\", \"guynn\", \"guynn\", \"guynn\", \"heighten\", \"heighten\", \"highly\", \"highly\", \"hiring\", \"holding\", \"holding\", \"home\", \"home\", \"home\", \"home\", \"home\", \"implication\", \"implication\", \"important\", \"impressive\", \"impressive\", \"improving\", \"increase\", \"increase\", \"increase\", \"increase\", \"increase\", \"inflation\", \"inflation\", \"inflation\", \"inflation\", \"inflation\", \"inflationary\", \"inflationary\", \"inflationary\", \"inflationary\", \"information\", \"information\", \"information\", \"information\", \"information\", \"intact\", \"intensification\", \"item\", \"jack\", \"jack\", \"jack\", \"jack\", \"jamie\", \"janet\", \"janet\", \"jerry\", \"jordan\", \"kansas\", \"kansas\", \"kansas\", \"kansas\", \"kevin\", \"kevin\", \"kroszner\", \"kroszner\", \"labor\", \"labor\", \"labor\", \"labor\", \"labor\", \"lafs\", \"leave\", \"lender\", \"lending\", \"lending\", \"level\", \"level\", \"level\", \"level\", \"level\", \"lift\", \"likely\", \"likely\", \"likely\", \"likely\", \"likely\", \"line\", \"liquidity\", \"liquidity\", \"liquidity\", \"long\", \"long\", \"long\", \"long\", \"long\", \"louis\", \"louis\", \"louis\", \"louis\", \"louis\", \"mainly\", \"mainly\", \"mainly\", \"mainly\", \"mainly\", \"mandate\", \"mandate\", \"margin\", \"mark\", \"mark\", \"mark\", \"mark\", \"market\", \"market\", \"market\", \"market\", \"market\", \"mature\", \"maximum\", \"maximum\", \"maximum\", \"maximum\", \"maximum\", \"mcdonough\", \"mcteer\", \"mean\", \"minehan\", \"minehan\", \"minehan\", \"minehan\", \"minneapolis\", \"minneapolis\", \"minneapolis\", \"minneapolis\", \"minneapolis\", \"minor\", \"minute\", \"minute\", \"minute\", \"mishkin\", \"mishkin\", \"moderately\", \"monetary\", \"monetary\", \"monetary\", \"monetary\", \"monetary\", \"month\", \"month\", \"month\", \"month\", \"month\", \"mortgage\", \"mortgage\", \"mortgage\", \"muted\", \"national\", \"national\", \"need\", \"need\", \"need\", \"need\", \"need\", \"news\", \"news\", \"news\", \"news\", \"news\", \"objective\", \"objective\", \"objective\", \"objective\", \"obligation\", \"obligation\", \"offer\", \"olson\", \"olson\", \"olson\", \"olson\", \"open\", \"open\", \"open\", \"open\", \"open\", \"operation\", \"operation\", \"outlook\", \"outlook\", \"outlook\", \"outlook\", \"outlook\", \"outpace\", \"output\", \"output\", \"output\", \"output\", \"overall\", \"overall\", \"overnight\", \"pace\", \"pace\", \"pace\", \"pace\", \"pace\", \"parry\", \"path\", \"payment\", \"payment\", \"payment\", \"payment\", \"perceive\", \"perceive\", \"percent\", \"percent\", \"percent\", \"percent\", \"percent\", \"persistent\", \"philadelphia\", \"philadelphia\", \"philadelphia\", \"philadelphia\", \"philadelphia\", \"pickup\", \"pickup\", \"point\", \"point\", \"point\", \"point\", \"point\", \"policy\", \"policy\", \"policy\", \"policy\", \"policy\", \"pool\", \"pool\", \"poole\", \"poole\", \"poole\", \"poole\", \"portion\", \"possibility\", \"possibility\", \"possibility\", \"potential\", \"potential\", \"potential\", \"potential\", \"potential\", \"preliminary\", \"price\", \"price\", \"price\", \"price\", \"price\", \"primary\", \"probability\", \"produce\", \"productivity\", \"productivity\", \"productivity\", \"productivity\", \"productivity\", \"profit\", \"profit\", \"profitability\", \"progress\", \"progress\", \"purchase\", \"purchase\", \"purchase\", \"purchase\", \"randall\", \"randall\", \"range\", \"range\", \"range\", \"range\", \"rapid\", \"rapid\", \"rate\", \"rate\", \"rate\", \"rate\", \"rate\", \"rates\", \"rates\", \"reasonably\", \"record\", \"recovery\", \"recovery\", \"recovery\", \"recovery\", \"reduction\", \"reduction\", \"reduction\", \"reduction\", \"reduction\", \"regain\", \"regulations\", \"regulations\", \"regulations\", \"relative\", \"relatively\", \"relatively\", \"relatively\", \"relatively\", \"remain\", \"remain\", \"remain\", \"remain\", \"remain\", \"remarkable\", \"remove\", \"remove\", \"remove\", \"remove\", \"report\", \"report\", \"report\", \"report\", \"reports\", \"reports\", \"reports\", \"reports\", \"repurchase\", \"request\", \"request\", \"request\", \"request\", \"request\", \"research\", \"research\", \"reserve\", \"reserve\", \"reserve\", \"reserve\", \"reserve\", \"residential\", \"resources\", \"resources\", \"respect\", \"respond\", \"respond\", \"respond\", \"riksbank\", \"risk\", \"risk\", \"risk\", \"risk\", \"risk\", \"robert\", \"robert\", \"robert\", \"roger\", \"roger\", \"roger\", \"roger\", \"roughly\", \"roughly\", \"roughly\", \"roughly\", \"security\", \"security\", \"security\", \"security\", \"security\", \"seek\", \"seek\", \"signify\", \"softness\", \"spot\", \"stability\", \"stability\", \"stability\", \"stability\", \"stability\", \"stable\", \"stable\", \"statutory\", \"stewart\", \"strong\", \"strong\", \"strong\", \"structure\", \"structure\", \"structure\", \"structure\", \"style\", \"style\", \"style\", \"style\", \"style\", \"submit\", \"submit\", \"submit\", \"submit\", \"submit\", \"supervision\", \"supervision\", \"supervision\", \"supervision\", \"supervision\", \"survey\", \"susan\", \"susan\", \"susan\", \"susan\", \"sustainable\", \"sustainable\", \"sustainable\", \"sustainable\", \"sustainable\", \"swap\", \"swing\", \"swiss\", \"symmetrical\", \"tarullo\", \"tarullo\", \"technology\", \"term\", \"term\", \"term\", \"term\", \"term\", \"timothy\", \"timothy\", \"timothy\", \"timothy\", \"today\", \"today\", \"today\", \"today\", \"today\", \"tools\", \"tools\", \"traction\", \"transaction\", \"transaction\", \"trmd\", \"tslf\", \"unanimously\", \"unanimously\", \"unanimously\", \"unanimously\", \"uncertain\", \"uncertain\", \"uncertain\", \"underlie\", \"underlie\", \"underlie\", \"underlie\", \"underlie\", \"undermine\", \"undermine\", \"undermine\", \"undermine\", \"undesirably\", \"unemployment\", \"unemployment\", \"unsettled\", \"unusual\", \"unusual\", \"unwelcome\", \"unwelcome\", \"update\", \"update\", \"update\", \"update\", \"update\", \"upside\", \"upside\", \"upside\", \"upside\", \"voting\", \"voting\", \"voting\", \"voting\", \"voting\", \"warsh\", \"warsh\", \"wasm\", \"weakness\", \"weakness\", \"weakness\", \"weakness\", \"weakness\", \"website\", \"weight\", \"weight\", \"weight\", \"wide\", \"wide\", \"worker\", \"worker\"]}, \"R\": 30, \"lambda.step\": 0.01, \"plot.opts\": {\"xlab\": \"PC1\", \"ylab\": \"PC2\"}, \"topic.order\": [4, 1, 5, 2, 3]};\n",
       "\n",
       "function LDAvis_load_lib(url, callback){\n",
       "  var s = document.createElement('script');\n",
       "  s.src = url;\n",
       "  s.async = true;\n",
       "  s.onreadystatechange = s.onload = callback;\n",
       "  s.onerror = function(){console.warn(\"failed to load library \" + url);};\n",
       "  document.getElementsByTagName(\"head\")[0].appendChild(s);\n",
       "}\n",
       "\n",
       "if(typeof(LDAvis) !== \"undefined\"){\n",
       "   // already loaded: just create the visualization\n",
       "   !function(LDAvis){\n",
       "       new LDAvis(\"#\" + \"ldavis_el38361994888077360531893467\", ldavis_el38361994888077360531893467_data);\n",
       "   }(LDAvis);\n",
       "}else if(typeof define === \"function\" && define.amd){\n",
       "   // require.js is available: use it to load d3/LDAvis\n",
       "   require.config({paths: {d3: \"https://d3js.org/d3.v5\"}});\n",
       "   require([\"d3\"], function(d3){\n",
       "      window.d3 = d3;\n",
       "      LDAvis_load_lib(\"https://cdn.jsdelivr.net/gh/bmabey/pyLDAvis@3.3.1/pyLDAvis/js/ldavis.v3.0.0.js\", function(){\n",
       "        new LDAvis(\"#\" + \"ldavis_el38361994888077360531893467\", ldavis_el38361994888077360531893467_data);\n",
       "      });\n",
       "    });\n",
       "}else{\n",
       "    // require.js not available: dynamically load d3 & LDAvis\n",
       "    LDAvis_load_lib(\"https://d3js.org/d3.v5.js\", function(){\n",
       "         LDAvis_load_lib(\"https://cdn.jsdelivr.net/gh/bmabey/pyLDAvis@3.3.1/pyLDAvis/js/ldavis.v3.0.0.js\", function(){\n",
       "                 new LDAvis(\"#\" + \"ldavis_el38361994888077360531893467\", ldavis_el38361994888077360531893467_data);\n",
       "            })\n",
       "         });\n",
       "}\n",
       "</script>"
      ],
      "text/plain": [
       "PreparedData(topic_coordinates=              x         y  topics  cluster       Freq\n",
       "topic                                                \n",
       "3      0.191352 -0.034350       1        1  37.088077\n",
       "0     -0.084301  0.148029       2        1  21.304889\n",
       "4     -0.137788 -0.008975       3        1  16.265186\n",
       "1     -0.135758 -0.116618       4        1  14.663061\n",
       "2      0.166495  0.011914       5        1  10.678787, topic_info=             Term         Freq        Total Category  logprob  loglift\n",
       "49           bank   484.000000   484.000000  Default  30.0000  30.0000\n",
       "1296         data   533.000000   533.000000  Default  29.0000  29.0000\n",
       "34        reserve   987.000000   987.000000  Default  28.0000  28.0000\n",
       "70      financial   804.000000   804.000000  Default  27.0000  27.0000\n",
       "29         policy  1582.000000  1582.000000  Default  26.0000  26.0000\n",
       "...           ...          ...          ...      ...      ...      ...\n",
       "249     governors    49.007776   282.807253   Topic5  -5.2933   0.4841\n",
       "73      inflation    56.069163  1363.686410   Topic5  -5.1587  -0.9544\n",
       "64    development    46.275513   275.312531   Topic5  -5.3507   0.4536\n",
       "259         price    47.832225   768.836666   Topic5  -5.3176  -0.5403\n",
       "60       continue    46.313629   702.382094   Topic5  -5.3498  -0.4821\n",
       "\n",
       "[414 rows x 6 columns], token_table=      Topic      Freq           Term\n",
       "term                                \n",
       "151       1  0.003330  accessibility\n",
       "151       2  0.236437  accessibility\n",
       "151       3  0.286388  accessibility\n",
       "151       4  0.469543  accessibility\n",
       "151       5  0.003330  accessibility\n",
       "...     ...       ...            ...\n",
       "600       5  0.006919         weight\n",
       "1563      1  0.953854           wide\n",
       "1563      5  0.037406           wide\n",
       "542       2  0.965881         worker\n",
       "542       3  0.028408         worker\n",
       "\n",
       "[869 rows x 3 columns], R=30, lambda_step=0.01, plot_opts={'xlab': 'PC1', 'ylab': 'PC2'}, topic_order=[4, 1, 5, 2, 3])"
      ]
     },
     "execution_count": 124,
     "metadata": {},
     "output_type": "execute_result"
    }
   ],
   "source": [
    "# To plot at Jupyter notebook\n",
    "pyLDAvis.enable_notebook()\n",
    "lda_viz = gensimvis.prepare(ldamodel, corpus, dictionary)\n",
    "# Save pyLDA plot as html file\n",
    "pyLDAvis.save_html(lda_viz, 'LDA_NYT.html')\n",
    "lda_viz"
   ]
  },
  {
   "cell_type": "code",
   "execution_count": null,
   "id": "1d3a829c",
   "metadata": {},
   "outputs": [],
   "source": []
  },
  {
   "cell_type": "code",
   "execution_count": null,
   "id": "bfaf38c9",
   "metadata": {},
   "outputs": [],
   "source": []
  },
  {
   "cell_type": "code",
   "execution_count": 104,
   "id": "dff302e7",
   "metadata": {},
   "outputs": [
    {
     "data": {
      "text/plain": [
       "'sequence'"
      ]
     },
     "execution_count": 104,
     "metadata": {},
     "output_type": "execute_result"
    }
   ],
   "source": [
    "re.sub(r'\\s+', '', \"sequence   \")"
   ]
  },
  {
   "cell_type": "code",
   "execution_count": null,
   "id": "3755ce96",
   "metadata": {},
   "outputs": [],
   "source": []
  },
  {
   "cell_type": "markdown",
   "id": "89badad3",
   "metadata": {},
   "source": [
    "## Mallet"
   ]
  },
  {
   "cell_type": "code",
   "execution_count": 5,
   "id": "1401d0a8",
   "metadata": {},
   "outputs": [
    {
     "name": "stdout",
     "output_type": "stream",
     "text": [
      "Requirement already satisfied: little_mallet_wrapper in c:\\users\\20220034\\dev\\cbankvenv\\lib\\site-packages (0.5.0)\n"
     ]
    }
   ],
   "source": [
    "!pip install little_mallet_wrapper \n",
    "#https://github.com/maria-antoniak/little-mallet-wrapper/blob/master/demo.ipynb"
   ]
  },
  {
   "cell_type": "code",
   "execution_count": 6,
   "id": "e66ac724",
   "metadata": {},
   "outputs": [
    {
     "name": "stdout",
     "output_type": "stream",
     "text": [
      "Requirement already satisfied: seaborn in c:\\users\\20220034\\dev\\cbankvenv\\lib\\site-packages (0.12.0)\n",
      "Requirement already satisfied: matplotlib>=3.1 in c:\\users\\20220034\\dev\\cbankvenv\\lib\\site-packages (from seaborn) (3.5.3)\n",
      "Requirement already satisfied: numpy>=1.17 in c:\\users\\20220034\\dev\\cbankvenv\\lib\\site-packages (from seaborn) (1.23.3)\n",
      "Requirement already satisfied: pandas>=0.25 in c:\\users\\20220034\\dev\\cbankvenv\\lib\\site-packages (from seaborn) (1.4.4)\n",
      "Requirement already satisfied: packaging>=20.0 in c:\\users\\20220034\\dev\\cbankvenv\\lib\\site-packages (from matplotlib>=3.1->seaborn) (21.3)\n",
      "Requirement already satisfied: python-dateutil>=2.7 in c:\\users\\20220034\\dev\\cbankvenv\\lib\\site-packages (from matplotlib>=3.1->seaborn) (2.8.2)\n",
      "Requirement already satisfied: pyparsing>=2.2.1 in c:\\users\\20220034\\dev\\cbankvenv\\lib\\site-packages (from matplotlib>=3.1->seaborn) (3.0.9)\n",
      "Requirement already satisfied: cycler>=0.10 in c:\\users\\20220034\\dev\\cbankvenv\\lib\\site-packages (from matplotlib>=3.1->seaborn) (0.11.0)\n",
      "Requirement already satisfied: pillow>=6.2.0 in c:\\users\\20220034\\dev\\cbankvenv\\lib\\site-packages (from matplotlib>=3.1->seaborn) (9.2.0)\n",
      "Requirement already satisfied: fonttools>=4.22.0 in c:\\users\\20220034\\dev\\cbankvenv\\lib\\site-packages (from matplotlib>=3.1->seaborn) (4.37.1)\n",
      "Requirement already satisfied: kiwisolver>=1.0.1 in c:\\users\\20220034\\dev\\cbankvenv\\lib\\site-packages (from matplotlib>=3.1->seaborn) (1.4.4)\n",
      "Requirement already satisfied: pytz>=2020.1 in c:\\users\\20220034\\dev\\cbankvenv\\lib\\site-packages (from pandas>=0.25->seaborn) (2022.2.1)\n",
      "Requirement already satisfied: six>=1.5 in c:\\users\\20220034\\dev\\cbankvenv\\lib\\site-packages (from python-dateutil>=2.7->matplotlib>=3.1->seaborn) (1.12.0)\n"
     ]
    }
   ],
   "source": [
    "!pip install seaborn"
   ]
  },
  {
   "cell_type": "code",
   "execution_count": 5,
   "id": "3f9dd432",
   "metadata": {},
   "outputs": [],
   "source": [
    "from collections import defaultdict\n",
    "from datetime import datetime\n",
    "import math\n",
    "from operator import itemgetter\n",
    "import os\n",
    "import random\n",
    "import re\n",
    "\n",
    "import numpy as np\n",
    "import pandas as pd\n",
    "\n",
    "%matplotlib inline\n",
    "\n",
    "import little_mallet_wrapper as lmw"
   ]
  },
  {
   "cell_type": "code",
   "execution_count": 6,
   "id": "cc4d5e3c",
   "metadata": {},
   "outputs": [],
   "source": [
    "os.environ.update({'MALLET_HOME':r'C:\\\\mallet-2.0.8'})"
   ]
  },
  {
   "cell_type": "code",
   "execution_count": 7,
   "id": "e0dab1ae",
   "metadata": {},
   "outputs": [],
   "source": [
    "with open('FOMC_Statements_cleaned.pickle', 'rb') as handle:\n",
    "    dataset1 = pickle.load(handle)"
   ]
  },
  {
   "cell_type": "code",
   "execution_count": 8,
   "id": "602289b2",
   "metadata": {},
   "outputs": [],
   "source": [
    "training_data = [lmw.process_string(t) for t in dataset1['FOMC_Statements'].tolist()]"
   ]
  },
  {
   "cell_type": "code",
   "execution_count": 9,
   "id": "8d922205",
   "metadata": {},
   "outputs": [],
   "source": [
    "\n",
    "path_to_mallet = 'C:\\\\mallet-2.0.8\\\\bin\\\\mallet'"
   ]
  },
  {
   "cell_type": "code",
   "execution_count": 10,
   "id": "e9304d37",
   "metadata": {},
   "outputs": [
    {
     "data": {
      "text/plain": [
       "199"
      ]
     },
     "execution_count": 10,
     "metadata": {},
     "output_type": "execute_result"
    }
   ],
   "source": [
    "len(training_data)"
   ]
  },
  {
   "cell_type": "code",
   "execution_count": 11,
   "id": "d4ae9cf2",
   "metadata": {},
   "outputs": [
    {
     "name": "stdout",
     "output_type": "stream",
     "text": [
      "Number of Documents: 199\n",
      "Mean Number of Words per Document: 478.5\n",
      "Vocabulary Size: 2544\n"
     ]
    }
   ],
   "source": [
    "lmw.print_dataset_stats(training_data)"
   ]
  },
  {
   "cell_type": "code",
   "execution_count": null,
   "id": "140958de",
   "metadata": {},
   "outputs": [],
   "source": []
  },
  {
   "cell_type": "code",
   "execution_count": 12,
   "id": "be9bf00d",
   "metadata": {},
   "outputs": [],
   "source": [
    "num_topics = 5  # CHANGE THIS TO YOUR PREFERRED NUMBER OF TOPICS\n",
    "output_directory_path = '\\\\Users\\\\20220034\\\\Desktop\\\\lmw_output'\n",
    "\n",
    "path_to_training_data           = output_directory_path + '\\\\training.txt'\n",
    "path_to_formatted_training_data = output_directory_path + '\\\\mallet.training'\n",
    "path_to_model                   = output_directory_path + '\\\\mallet.model.' + str(num_topics)\n",
    "path_to_topic_keys              = output_directory_path + '\\\\mallet.topic_keys.' + str(num_topics)\n",
    "path_to_topic_distributions     = output_directory_path + '\\\\mallet.topic_distributions.' + str(num_topics)\n",
    "path_to_word_weights            = output_directory_path + '\\\\mallet.word_weights.' + str(num_topics)\n",
    "path_to_diagnostics             = output_directory_path + '\\\\mallet.diagnostics.' + str(num_topics) + '.xml'"
   ]
  },
  {
   "cell_type": "code",
   "execution_count": 13,
   "id": "e1a336d4",
   "metadata": {},
   "outputs": [
    {
     "name": "stdout",
     "output_type": "stream",
     "text": [
      "Importing data...\n",
      "Complete\n"
     ]
    }
   ],
   "source": [
    "\n",
    "lmw.import_data(path_to_mallet,\n",
    "                path_to_training_data,\n",
    "                path_to_formatted_training_data,\n",
    "                training_data)"
   ]
  },
  {
   "cell_type": "code",
   "execution_count": 14,
   "id": "88aecc01",
   "metadata": {},
   "outputs": [
    {
     "name": "stdout",
     "output_type": "stream",
     "text": [
      "Training topic model...\n",
      "Complete\n"
     ]
    }
   ],
   "source": [
    "lmw.train_topic_model(path_to_mallet,\n",
    "                      path_to_formatted_training_data,\n",
    "                      path_to_model,\n",
    "                      path_to_topic_keys,\n",
    "                      path_to_topic_distributions,\n",
    "                      path_to_word_weights,\n",
    "                      path_to_diagnostics,\n",
    "                      num_topics)\n"
   ]
  },
  {
   "cell_type": "code",
   "execution_count": 15,
   "id": "4883cccc",
   "metadata": {},
   "outputs": [],
   "source": [
    "topic_keys = lmw.load_topic_keys(output_directory_path + '\\\\mallet.topic_keys.' + str(num_topics))"
   ]
  },
  {
   "cell_type": "code",
   "execution_count": 16,
   "id": "9337957a",
   "metadata": {},
   "outputs": [
    {
     "name": "stdout",
     "output_type": "stream",
     "text": [
      "0 \t document var style committee handler cpo function inflation onreadystatechange appendchild\n",
      "1 \t financial data federal committee bank reserve policy monetary economic market\n",
      "2 \t federal rate reserve economic discount board approved action growth percent\n",
      "3 \t committee inflation market economic percent rate conditions federal labor policy\n",
      "4 \t policy monetary committee action chairman federal economic growth inflation voting\n"
     ]
    }
   ],
   "source": [
    "topic_keys = lmw.load_topic_keys(output_directory_path + '/mallet.topic_keys.' + str(num_topics))\n",
    "\n",
    "for i, t in enumerate(topic_keys):\n",
    "    print(i, '\\t', ' '.join(t[:10]))"
   ]
  },
  {
   "cell_type": "code",
   "execution_count": null,
   "id": "65645eef",
   "metadata": {},
   "outputs": [],
   "source": []
  }
 ],
 "metadata": {
  "kernelspec": {
   "display_name": "Python 3 (ipykernel)",
   "language": "python",
   "name": "python3"
  },
  "language_info": {
   "codemirror_mode": {
    "name": "ipython",
    "version": 3
   },
   "file_extension": ".py",
   "mimetype": "text/x-python",
   "name": "python",
   "nbconvert_exporter": "python",
   "pygments_lexer": "ipython3",
   "version": "3.10.5"
  }
 },
 "nbformat": 4,
 "nbformat_minor": 5
}
